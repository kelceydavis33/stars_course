{
 "cells": [
  {
   "cell_type": "markdown",
   "id": "d5d18c04",
   "metadata": {},
   "source": [
    "# Homework 5"
   ]
  },
  {
   "cell_type": "code",
   "execution_count": 1,
   "id": "4298f017",
   "metadata": {},
   "outputs": [],
   "source": [
    "import astropy.units as u\n",
    "import astropy.constants as c\n",
    "from astropy.coordinates import SkyCoord\n",
    "from astropy.time import Time\n",
    "import numpy as np\n",
    "import matplotlib.pyplot as plt\n",
    "import pandas as pd\n",
    "import glob\n",
    "%matplotlib inline"
   ]
  },
  {
   "cell_type": "code",
   "execution_count": 2,
   "id": "d2f9672d",
   "metadata": {},
   "outputs": [],
   "source": [
    "plt.rcParams['figure.figsize'] = (10, 10)\n",
    "plt.rc('axes', labelsize=14)\n",
    "plt.rc('axes', labelweight='bold')\n",
    "plt.rc('axes', titlesize=16)\n",
    "plt.rc('axes', titleweight='bold')\n",
    "plt.rc('font', family='sans-serif')"
   ]
  },
  {
   "cell_type": "markdown",
   "id": "61fce33b",
   "metadata": {},
   "source": [
    "# Problem 1\n",
    "\n",
    "Polaris is a supergiant star with a mass of 5.4M d , a radius of 37.5R d , and a luminosity of 1260L d .\n",
    "(10 pts total)\n",
    "\n",
    "$M_{polaris} = 5.4 M_{sun}$\n",
    "\n",
    "$R_{polaris} = 37.5 R_{sun}$\n",
    "\n",
    "$L_{polaris} = 1260 L_{sun}$"
   ]
  },
  {
   "cell_type": "markdown",
   "id": "e300bc86",
   "metadata": {},
   "source": [
    "(a) What is the eective surface temperature of Polaris? (2 pts)\n"
   ]
  },
  {
   "cell_type": "markdown",
   "id": "aba416c6",
   "metadata": {},
   "source": [
    "$L = 4 \\pi R^2 \\sigma T^4$"
   ]
  },
  {
   "cell_type": "markdown",
   "id": "ab83639b",
   "metadata": {},
   "source": [
    "$T = [\\frac{L}{4 \\pi \\sigma R^2}]^{1/4}$"
   ]
  },
  {
   "cell_type": "code",
   "execution_count": 82,
   "id": "0a9422aa",
   "metadata": {},
   "outputs": [
    {
     "name": "stdout",
     "output_type": "stream",
     "text": [
      "The effective temperature is 5.62e+03 K.\n"
     ]
    }
   ],
   "source": [
    "sigma = c.sigma_sb.decompose(bases=u.cgs.bases)\n",
    "M = 5.4*c.M_sun.decompose(bases=u.cgs.bases)\n",
    "R = 37.5*c.R_sun.decompose(bases=u.cgs.bases)\n",
    "L = 1260*c.L_sun.decompose(bases=u.cgs.bases)\n",
    "T = ((L)/(4*np.pi*sigma*(R**2)))**(1/4)\n",
    "print(f'The effective temperature is {T:.2e}.')"
   ]
  },
  {
   "cell_type": "markdown",
   "id": "55606589",
   "metadata": {},
   "source": [
    "(b) Polaris is on the asymptotic giant branch: it has exhausted its hydrogen and has a luminosity\n",
    "powered almost entirely by helium fusion. Assume that Polaris has Y “ 0.9 (and X “ 0,\n",
    "Z “ 0.1) and half of the star is available for 3α reactions. How long will Polaris survive on the\n",
    "AGB? (Remember that 3 He nuclei are burned in each 3α fusion reaction.) (4 pts)\n"
   ]
  },
  {
   "cell_type": "code",
   "execution_count": 83,
   "id": "5d0afe7d",
   "metadata": {},
   "outputs": [],
   "source": [
    "Y = 0.9\n",
    "X = 0.0\n",
    "Z = 0.1\n",
    "#Assume half of the star is available for reactions"
   ]
  },
  {
   "cell_type": "markdown",
   "id": "8986604f",
   "metadata": {},
   "source": [
    "So half of the star is available for reactions. It is about 90% He and 10% Heavier metals. That means our available He mass is:"
   ]
  },
  {
   "cell_type": "markdown",
   "id": "f7c9200b",
   "metadata": {},
   "source": [
    "$\\mu = \\frac{1}{2X + \\frac{3}{4}Y + \\frac{1}{2} Z}$"
   ]
  },
  {
   "cell_type": "code",
   "execution_count": 84,
   "id": "03d54789",
   "metadata": {},
   "outputs": [
    {
     "data": {
      "text/latex": [
       "$4.831836 \\times 10^{33} \\; \\mathrm{g}$"
      ],
      "text/plain": [
       "<Quantity 4.83183599e+33 g>"
      ]
     },
     "execution_count": 84,
     "metadata": {},
     "output_type": "execute_result"
    }
   ],
   "source": [
    "mHe = (M*.9)/2\n",
    "mHe"
   ]
  },
  {
   "cell_type": "markdown",
   "id": "e2502f53",
   "metadata": {},
   "source": [
    "We know that:\n",
    "\n",
    "$E = L \\Delta t$ (lecture 1/31)\n",
    "\n",
    "so \n",
    "\n",
    "$\\Delta t = \\frac{E}{L}$\n",
    "\n",
    "We can get the time by finding the total energy due to the nuclear reactions and dividing it by the luminosity.\n",
    "\n",
    "The energy from one trippe alpha process is:\n",
    "\n",
    "7.275 MeV.\n",
    "\n",
    "via https://en.wikipedia.org/wiki/Triple-alpha_process"
   ]
  },
  {
   "cell_type": "code",
   "execution_count": 69,
   "id": "bb1eadb2",
   "metadata": {},
   "outputs": [
    {
     "data": {
      "text/latex": [
       "$7.275 \\; \\mathrm{1.6021766 \\times 10^{-6}\\,\\frac{cm^{2}\\,g}{s^{2}}}$"
      ],
      "text/plain": [
       "<Quantity 7.275 1.60218e-06 cm2 g / s2>"
      ]
     },
     "execution_count": 69,
     "metadata": {},
     "output_type": "execute_result"
    }
   ],
   "source": [
    "tripa = 7.275*u.MeV.decompose(bases=u.cgs.bases)\n",
    "tripa"
   ]
  },
  {
   "cell_type": "code",
   "execution_count": 70,
   "id": "5261f9e4",
   "metadata": {},
   "outputs": [],
   "source": [
    "#mass of one He atom\n",
    "m_one_He = 4.002602*u.u.decompose(bases=u.cgs.bases)\n",
    "#Total ammount of He atoms\n",
    "nHe = mHe/m_one_He\n",
    "#Total energy will be the energy consumed by burning up all He in sets of 3:\n",
    "Etot = nHe*tripa/3"
   ]
  },
  {
   "cell_type": "code",
   "execution_count": 80,
   "id": "0399e47e",
   "metadata": {},
   "outputs": [
    {
     "data": {
      "text/plain": [
       "0.000606930614664507"
      ]
     },
     "execution_count": 80,
     "metadata": {},
     "output_type": "execute_result"
    }
   ],
   "source": [
    "time = Etot.value/L.value\n",
    "time"
   ]
  },
  {
   "cell_type": "code",
   "execution_count": 81,
   "id": "7f2df206",
   "metadata": {},
   "outputs": [
    {
     "name": "stdout",
     "output_type": "stream",
     "text": [
      "It would take 6.07e-04 seconds.\n"
     ]
    }
   ],
   "source": [
    "print(f'It would take {time:.2e} seconds.')"
   ]
  },
  {
   "cell_type": "markdown",
   "id": "71646df4",
   "metadata": {},
   "source": [
    "(c) Like many massive (2 ă M ă 8M d ) supergiant stars, Polaris is a Cepheid variable star.\n",
    "Cepheid variability is driven entirely by dynamical eects, with no heat transfer. What is the\n",
    "period of variability for Polaris? (Hint: Look back at the Lecture 4 notes.) (4 pts)"
   ]
  },
  {
   "cell_type": "markdown",
   "id": "12c409eb",
   "metadata": {},
   "source": [
    "From lecture 1/31:\n",
    "\n",
    "$period \\approx\\tau_{ff}  $"
   ]
  },
  {
   "cell_type": "markdown",
   "id": "8e7105e6",
   "metadata": {},
   "source": [
    "Again from the notes,\n",
    "\n",
    "$\\tau_{ff} = \\frac{1}{\\sqrt{G \\bar{\\rho}}}$"
   ]
  },
  {
   "cell_type": "code",
   "execution_count": 93,
   "id": "c43adaf9",
   "metadata": {},
   "outputs": [
    {
     "name": "stdout",
     "output_type": "stream",
     "text": [
      "The pulsation period is approximately 0.199 [s].\n"
     ]
    }
   ],
   "source": [
    "rho = M/((4/3)*np.pi*(R**2))\n",
    "tau = 1/np.sqrt(G*rho).value\n",
    "print(f'The pulsation period is approximately {round(tau,3)} [s].')"
   ]
  },
  {
   "cell_type": "markdown",
   "id": "f7aa1c02",
   "metadata": {},
   "source": [
    "# Problem 2"
   ]
  },
  {
   "cell_type": "markdown",
   "id": "21429f4b",
   "metadata": {},
   "source": [
    "The “Helium ash” is tremendously luminous but very short lived, emitting L “ 1 ˆ 10 10 L d in\n",
    "about 3 s. By what factor does the radius of the core expand due to the Helium ash? Assume that\n",
    "all of the Helium ash energy goes into expanding the core, and the initial degenerate core can be\n",
    "approximated as a white dwarf. (Both assumptions are reasonably accurate.) (5 pts)"
   ]
  },
  {
   "cell_type": "code",
   "execution_count": 20,
   "id": "02349349",
   "metadata": {},
   "outputs": [],
   "source": [
    "L = 1e10*c.L_sun.decompose(bases=u.cgs.bases)\n",
    "t = 3*u.s.decompose(bases=u.cgs.bases)\n",
    "G = c.G.decompose(bases=u.cgs.bases)"
   ]
  },
  {
   "cell_type": "markdown",
   "id": "d2e93fe0",
   "metadata": {},
   "source": [
    "All the energy goes in to the core expansion, so we can consider that:\n",
    "\n",
    "$E = \\Delta U$\n",
    "\n",
    "For a uniform sphere,\n",
    "\n",
    "$E_{grav} = \\frac{-3}{5}\\frac{GM^2}{R}$\n",
    "\n",
    "$E = \\frac{-3}{5}\\frac{GM_{final}^2}{R_{final}} - \\frac{-3}{5}\\frac{GM_{WD}^2}{R_{WD}}$\n",
    "\n",
    "We can also assume that the energy is related to the Luminosity by:\n",
    "\n",
    "$E = -L \\Delta t$"
   ]
  },
  {
   "cell_type": "markdown",
   "id": "c4c5365f",
   "metadata": {},
   "source": [
    "So\n",
    "\n",
    "$  -L \\Delta t = \\frac{-3}{5}\\frac{GM_{tot}^2}{R_{final}} - \\frac{-3}{5}\\frac{GM_{tot}^2}{R_{WD}}$"
   ]
  },
  {
   "cell_type": "markdown",
   "id": "5e0cec27",
   "metadata": {},
   "source": [
    "$ L \\Delta t = \\frac{-3}{5} {GM_{tot}^2}\\frac{1}{\\Delta R}$\n",
    "\n",
    "$\\frac{1}{\\Delta R} = \\frac{-5 L \\Delta t}{3 GM_{tot}^2}$"
   ]
  },
  {
   "cell_type": "markdown",
   "id": "b6534bcf",
   "metadata": {},
   "source": [
    "I will also make the assumption that the core is about as massive as the sun, since this is a fair approximation for a white-dwarf-like core."
   ]
  },
  {
   "cell_type": "code",
   "execution_count": 27,
   "id": "39faa92d",
   "metadata": {},
   "outputs": [
    {
     "name": "stdout",
     "output_type": "stream",
     "text": [
      "The change in radius is 1.38e+15 cm\n"
     ]
    }
   ],
   "source": [
    "M = u.M_sun.decompose(bases=u.cgs.bases)\n",
    "dR = 1/((5*L*t)/(3*G*(M**2)))\n",
    "rchange = dR.decompose(bases=u.cgs.bases)\n",
    "print(f'The change in radius is {rchange:.2e}')"
   ]
  },
  {
   "cell_type": "markdown",
   "id": "af9bfe93",
   "metadata": {},
   "source": [
    "# Problem 3\n",
    "\n",
    "The periodic table below is a great general visualization of where the elements come from, but it\n",
    "skips the details. Describe the following. (5 pts total)\n",
    "\n",
    "The dierent nuclear reactions in “dying low mass stars” that lead to carbon (C) as opposed\n",
    "to tin (Sn)."
   ]
  },
  {
   "cell_type": "markdown",
   "id": "4580135f",
   "metadata": {},
   "source": [
    "For this question, following notes and this source: https://sites.ualberta.ca/~pogosyan/teaching/ASTRO_122/lect17/lecture17.html\n",
    "\n",
    "\n",
    "For dying low-mass stars, there is no iron-catastrophe leading to heavier elements. The star will fuse He through the tripple alpha process until the He flash occurs where a All the He is burned in a few seconds, creating C. "
   ]
  },
  {
   "cell_type": "markdown",
   "id": "02e528be",
   "metadata": {},
   "source": [
    "This process looks like:\n",
    "\n",
    "$3 ^4 He \\to ^{12}_6 C$"
   ]
  },
  {
   "cell_type": "markdown",
   "id": "d9e78f96",
   "metadata": {},
   "source": [
    "This occurs for degenerate cores when\n",
    "\n",
    "$M_{core} = 0.45 M_{*}$\n",
    "\n",
    "The luminosity generated by this burning is about $10^{10} L_{sun}$, comprable to the luminosity of a galaxy. However, this does not escape the star at once, so the star itsself does not outshine its host galaxy."
   ]
  },
  {
   "cell_type": "markdown",
   "id": "f0d01a1a",
   "metadata": {},
   "source": [
    "The dierent nuclear reactions in “exploding massive stars” that lead to elements lighter than\n",
    "iron (e.g., oxygen O, neon Ne, and magnesium Mg)"
   ]
  },
  {
   "cell_type": "markdown",
   "id": "a8ee0000",
   "metadata": {},
   "source": [
    "Mostly following class notes for this one.\n",
    "\n",
    "Stars on the Asymptotic Giant Branch lose mass acoding to:\n",
    "\n",
    "$\\frac{dM}{dt} \\approx 10^{-4} \\frac{M_{sun}}{year}$"
   ]
  },
  {
   "cell_type": "markdown",
   "id": "457be781",
   "metadata": {},
   "source": [
    "These stars undergo nucleosythesis vis the \"s-process\" that creates these elements following:\n",
    "\n",
    "$^{13}_6 C + ^4_2 He \\to ^{16}_8 O + n$\n",
    "\n",
    "and in stars heavier than two solar masses,\n",
    "\n",
    "$^{22}_{10} Ne + ^4_2 He \\to ^{25}_{12} Mg + n$"
   ]
  },
  {
   "cell_type": "markdown",
   "id": "af5a5592",
   "metadata": {},
   "source": [
    "The nuclear reactions in “merging neutron stars” that lead to elements like gold and uranium."
   ]
  },
  {
   "cell_type": "markdown",
   "id": "2555036e",
   "metadata": {},
   "source": [
    "The fusion of these elements is driven by rapid neutron capture nucleosynthesis called the r-process.\n",
    "\n",
    "Taking mostly from the wikipedia page:\n",
    "\n",
    "https://en.wikipedia.org/wiki/R-process\n",
    "\n",
    "These captures inherently must be rapid to prevent any decay as the elements are built up. This process directly contrasts the s-process, which is a slower neutron capture."
   ]
  }
 ],
 "metadata": {
  "kernelspec": {
   "display_name": "Python 3",
   "language": "python",
   "name": "python3"
  },
  "language_info": {
   "codemirror_mode": {
    "name": "ipython",
    "version": 3
   },
   "file_extension": ".py",
   "mimetype": "text/x-python",
   "name": "python",
   "nbconvert_exporter": "python",
   "pygments_lexer": "ipython3",
   "version": "3.9.6"
  }
 },
 "nbformat": 4,
 "nbformat_minor": 5
}
