{
 "cells": [
  {
   "cell_type": "markdown",
   "id": "e04e6194",
   "metadata": {},
   "source": [
    "# Homework 3\n",
    "\n",
    "---\n",
    "Kelcey Davis\n",
    "\n",
    "Estimated time to complete:\n",
    "\n",
    "Colaboratiors:"
   ]
  },
  {
   "cell_type": "code",
   "execution_count": 1,
   "id": "4298f017",
   "metadata": {},
   "outputs": [],
   "source": [
    "import astropy.units as u\n",
    "import astropy.constants as c\n",
    "from astropy.coordinates import SkyCoord\n",
    "from astropy.time import Time\n",
    "import numpy as np\n",
    "import matplotlib.pyplot as plt\n",
    "import pandas as pd\n",
    "import glob\n",
    "%matplotlib inline"
   ]
  },
  {
   "cell_type": "code",
   "execution_count": 2,
   "id": "d2f9672d",
   "metadata": {},
   "outputs": [],
   "source": [
    "plt.rcParams['figure.figsize'] = (10, 10)\n",
    "plt.rc('axes', labelsize=14)\n",
    "plt.rc('axes', labelweight='bold')\n",
    "plt.rc('axes', titlesize=16)\n",
    "plt.rc('axes', titleweight='bold')\n",
    "plt.rc('font', family='sans-serif')"
   ]
  },
  {
   "cell_type": "markdown",
   "id": "3b51465d",
   "metadata": {},
   "source": [
    "# Problem 1\n",
    "\n",
    "Most main-sequence stars are in hydrostatic equilibrium, have an equation of state dominated by\n",
    "the ideal gas law, and have energy transport dominated by radiation. (8 pts total)"
   ]
  },
  {
   "cell_type": "markdown",
   "id": "8960b5fc",
   "metadata": {},
   "source": [
    "**a** Simplify the energy transport equation as dT {dr „  ́Tc{R and with Teff 9 Tc. Using the\n",
    "appropriate opacity for a hot ionized star, what is the proportionality of the central temperature\n",
    "Tc with total mass M , luminosity L, and radius R? (2 pts)"
   ]
  },
  {
   "cell_type": "markdown",
   "id": "423576b8",
   "metadata": {},
   "source": [
    "**answer**\n",
    "\n",
    "From notes 2/14:\n",
    "\n",
    "for energy trasport by radiation:\n",
    "\n",
    "$\\frac{dT}{dr} = \\frac{-3 \\kappa \\rho}{64 \\pi \\sigma_{sb} T^3} \\frac{L}{R^2}$"
   ]
  },
  {
   "cell_type": "markdown",
   "id": "07dbe6fd",
   "metadata": {},
   "source": [
    "with this substitution,\n",
    "\n",
    "$\\frac{-T_c}{R} = \\frac{-3 \\kappa \\rho}{64 \\pi \\sigma_{sb} T_{eff}^3}  \\frac{L}{R^2}$"
   ]
  },
  {
   "cell_type": "markdown",
   "id": "8a03155b",
   "metadata": {},
   "source": [
    "We will assume that $T_c \\approx T_{eff} \\approx T$\n",
    "\n",
    "\n",
    "$\\frac{-T}{R} = \\frac{-3 \\kappa \\rho}{64 \\pi \\sigma_{sb} T^3}  \\frac{L}{R^2}$"
   ]
  },
  {
   "cell_type": "markdown",
   "id": "433f0dea",
   "metadata": {},
   "source": [
    "$T_c^4 = \\frac{3 \\kappa M R}{V 64 \\pi \\sigma_{sb}}  \\frac{L}{R^2}$"
   ]
  },
  {
   "cell_type": "markdown",
   "id": "e0693dce",
   "metadata": {},
   "source": [
    "$T_c^4 = \\frac{3 \\kappa M R}{\\frac{4}{3}\\pi R^2 64 \\pi \\sigma_{sb}} \\frac{L}{R^2}$"
   ]
  },
  {
   "cell_type": "markdown",
   "id": "ce86c64f",
   "metadata": {},
   "source": [
    "$T_c^4 = \\frac{9 \\kappa M L}{4\\pi R^3 64 \\pi \\sigma_{sb}}$"
   ]
  },
  {
   "cell_type": "markdown",
   "id": "84853722",
   "metadata": {},
   "source": [
    "$T_c^4 = \\kappa \\frac{9  }{256} \\frac{M L}{R^3 \\pi^2 \\sigma_{sb}}$"
   ]
  },
  {
   "cell_type": "markdown",
   "id": "fd47c46f",
   "metadata": {},
   "source": [
    "We need to make an assumption about opacity. We will assume that:\n",
    "\n",
    "$\\kappa \\approx \\frac{m}{V} T^{-7/2}$\n",
    "\n",
    "But for simplicity, we will just assume a value of \n",
    "\n",
    "$\\kappa \\approx 0.20$ or"
   ]
  },
  {
   "cell_type": "code",
   "execution_count": 73,
   "id": "66dc3ff2",
   "metadata": {},
   "outputs": [
    {
     "data": {
      "text/latex": [
       "$2 \\; \\mathrm{\\frac{cm^{2}}{g}}$"
      ],
      "text/plain": [
       "<Quantity 2. cm2 / g>"
      ]
     },
     "execution_count": 73,
     "metadata": {},
     "output_type": "execute_result"
    }
   ],
   "source": [
    "kap = (0.20*(u.m**2)/u.kg).decompose(bases=u.cgs.bases)\n",
    "kap"
   ]
  },
  {
   "cell_type": "markdown",
   "id": "b135c5a5",
   "metadata": {},
   "source": [
    "Our equation becomes:\n",
    "\n",
    "$T_c^4 = 0.20 \\frac{9  }{256 \\pi^2 \\sigma_{sb}} \\frac{M L}{R^3}$\n",
    "\n",
    "We will use a steffan-boltzman constant value of:"
   ]
  },
  {
   "cell_type": "code",
   "execution_count": 23,
   "id": "4b396cf5",
   "metadata": {},
   "outputs": [
    {
     "data": {
      "text/latex": [
       "$5.6703744 \\times 10^{-5} \\; \\mathrm{\\frac{g}{s^{3}\\,K^{4}}}$"
      ],
      "text/plain": [
       "<Quantity 5.67037442e-05 g / (K4 s3)>"
      ]
     },
     "execution_count": 23,
     "metadata": {},
     "output_type": "execute_result"
    }
   ],
   "source": [
    "#decomposing the constant from astropy in cgs base units\n",
    "sig = c.sigma_sb.decompose(bases=u.cgs.bases)\n",
    "sig"
   ]
  },
  {
   "cell_type": "markdown",
   "id": "dfef174c",
   "metadata": {},
   "source": [
    "making our proportionality constant:\n",
    "\n",
    "$0.20 \\frac{9  }{256 \\pi^2 \\sigma_{sb}}$\n",
    "\n",
    "which simplifies to:\n"
   ]
  },
  {
   "cell_type": "code",
   "execution_count": 74,
   "id": "84b26143",
   "metadata": {},
   "outputs": [
    {
     "name": "stdout",
     "output_type": "stream",
     "text": [
      "The proportionality constant simplifies to 125.64.\n"
     ]
    }
   ],
   "source": [
    "prop = kap.value*9/(256*(np.pi**2)*sig.value)\n",
    "print(f'The proportionality constant simplifies to {round(prop,2)}.')"
   ]
  },
  {
   "cell_type": "markdown",
   "id": "2a58dca0",
   "metadata": {},
   "source": [
    "Making our equation:\n",
    "\n",
    "$T_c^4 = 125.64 \\frac{M L}{R^3}$"
   ]
  },
  {
   "cell_type": "code",
   "execution_count": 79,
   "id": "079541b8",
   "metadata": {},
   "outputs": [
    {
     "name": "stdout",
     "output_type": "stream",
     "text": [
      "The constant to the fourth is 2.492e+08.\n"
     ]
    }
   ],
   "source": [
    "print(f'The constant to the fourth is {125.64**4:.3e}.')"
   ]
  },
  {
   "cell_type": "markdown",
   "id": "88b58e8b",
   "metadata": {},
   "source": [
    "This gives our proportionality relations in cgs base units:\n",
    "\n",
    "\n",
    "$T_c \\approx [125.64 M]^4 \\approx 2.5x10^8 M^4$\n",
    "\n",
    "$T_c \\approx [125.64 L]^4\\approx 2.5x10^8 L^4$\n",
    "\n",
    "$T_c \\approx [125.64 R^{-3}]^4 \\approx 2.5x10^8 R$"
   ]
  },
  {
   "cell_type": "markdown",
   "id": "ff662f64",
   "metadata": {},
   "source": [
    "**b** Now derive the proportionality of Tc with M and R using the hydrostatic equilibrium equation\n",
    "and the ideal gas law. Again, you can simplify by assuming that dP {dr „  ́Pc{R and that the\n",
    "central density ρc 9  ̄ρ. (2 pts)"
   ]
  },
  {
   "cell_type": "markdown",
   "id": "6e1badd7",
   "metadata": {},
   "source": [
    "The hydrostatic equilibrium equation:\n",
    "\n",
    "$\\frac{dP}{dr} = \\frac{-Gm\\rho}{r^2}$"
   ]
  },
  {
   "cell_type": "markdown",
   "id": "3e04e988",
   "metadata": {},
   "source": [
    "For ideal gas,\n",
    "\n",
    "$\\gamma_{ad} = \\frac{5}{3}$\n",
    "\n",
    "$P = \\frac{\\rho}{\\mu m_H}kT = \\frac{3 m}{\\mu m_H 4 \\pi r^3}kT$\n"
   ]
  },
  {
   "cell_type": "markdown",
   "id": "a6f99e2b",
   "metadata": {},
   "source": [
    "$\\frac{dP}{dr} =\\frac{3 m}{\\mu m_H 4 \\pi}kT \\frac{d}{dr}\\frac{1}{r^3}$\n",
    "\n",
    "$\\frac{dP}{dr} =\\frac{3 m}{\\mu m_H 4 \\pi}kT\\frac{-3}{r^4}$"
   ]
  },
  {
   "cell_type": "markdown",
   "id": "fa441864",
   "metadata": {},
   "source": [
    "$\\frac{dP}{dr} = \\frac{-Gm\\rho}{r^2} = \\frac{Gm^2 3}{4 \\pi r^3}$\n",
    "\n",
    "$\\frac{Gm^2 3}{4 \\pi r^3} = \\frac{3 m}{\\mu m_H 4 \\pi}kT\\frac{-3}{r^4}$"
   ]
  },
  {
   "cell_type": "markdown",
   "id": "cc3635be",
   "metadata": {},
   "source": [
    "$\\frac{Gm }{ r^3} = \\frac{ 1}{\\mu m_H }kT\\frac{-3}{r^4}$"
   ]
  },
  {
   "cell_type": "markdown",
   "id": "816cca6f",
   "metadata": {},
   "source": [
    "$T = \\frac{Gm }{ r^3} \\mu m_Hr^4 \\frac{1}{-3 k}$"
   ]
  },
  {
   "cell_type": "markdown",
   "id": "32043a9b",
   "metadata": {},
   "source": [
    "$T = \\frac{G \\mu m_H}{-3k}mr$"
   ]
  },
  {
   "cell_type": "markdown",
   "id": "53648854",
   "metadata": {},
   "source": [
    "Assuming that the sun is mostly fully ionized, we can assume:\n",
    "\n",
    "$\\mu m_H \\approx 0.62$"
   ]
  },
  {
   "cell_type": "markdown",
   "id": "16955902",
   "metadata": {},
   "source": [
    "$T_c \\approx \\frac{-G 0.62}{3 k} M R$"
   ]
  },
  {
   "cell_type": "markdown",
   "id": "d236cfc7",
   "metadata": {},
   "source": [
    "Decomposing our constants in to base cgs units:\n",
    "\n",
    "G is"
   ]
  },
  {
   "cell_type": "code",
   "execution_count": 34,
   "id": "74c4e6b2",
   "metadata": {},
   "outputs": [
    {
     "data": {
      "text/latex": [
       "$6.6743 \\times 10^{-8} \\; \\mathrm{\\frac{cm^{3}}{g\\,s^{2}}}$"
      ],
      "text/plain": [
       "<Quantity 6.6743e-08 cm3 / (g s2)>"
      ]
     },
     "execution_count": 34,
     "metadata": {},
     "output_type": "execute_result"
    }
   ],
   "source": [
    "g = c.G.decompose(bases=u.cgs.bases)\n",
    "g"
   ]
  },
  {
   "cell_type": "code",
   "execution_count": 38,
   "id": "94364608",
   "metadata": {},
   "outputs": [
    {
     "data": {
      "text/latex": [
       "$1.380649 \\times 10^{-16} \\; \\mathrm{\\frac{cm^{2}\\,g}{K\\,s^{2}}}$"
      ],
      "text/plain": [
       "<Quantity 1.380649e-16 cm2 g / (K s2)>"
      ]
     },
     "execution_count": 38,
     "metadata": {},
     "output_type": "execute_result"
    }
   ],
   "source": [
    "k = c.k_B.decompose(bases=u.cgs.bases)\n",
    "k"
   ]
  },
  {
   "cell_type": "markdown",
   "id": "ebd64623",
   "metadata": {},
   "source": [
    "The proportionality fraction becomes:"
   ]
  },
  {
   "cell_type": "code",
   "execution_count": 39,
   "id": "26da07c1",
   "metadata": {},
   "outputs": [
    {
     "data": {
      "text/latex": [
       "$-99906300 \\; \\mathrm{\\frac{s^{2}\\,K}{g\\,cm^{2}}}$"
      ],
      "text/plain": [
       "<Quantity -99906300.10475749 K s2 / (cm2 g)>"
      ]
     },
     "execution_count": 39,
     "metadata": {},
     "output_type": "execute_result"
    }
   ],
   "source": [
    "frac = -1*g.value*0.62/(3*k)\n",
    "frac"
   ]
  },
  {
   "cell_type": "code",
   "execution_count": 47,
   "id": "09a4465f",
   "metadata": {},
   "outputs": [
    {
     "name": "stdout",
     "output_type": "stream",
     "text": [
      "or -9.99e+07 K s2 / (cm2 g)\n"
     ]
    }
   ],
   "source": [
    "print(f'or {frac.value:.2e} {frac.unit}')"
   ]
  },
  {
   "cell_type": "markdown",
   "id": "b8c4aa35",
   "metadata": {},
   "source": [
    "Our equations become:\n",
    "\n",
    "$T_c \\approx -1x10^8 M$\n",
    "\n",
    "$T_c \\approx -1x10^8 R$"
   ]
  },
  {
   "cell_type": "markdown",
   "id": "1d5d221e",
   "metadata": {},
   "source": [
    "**c**  Combine the two equations above to derive the proportionality of L with M and R for a typical\n",
    "main sequence star. (2 pts)"
   ]
  },
  {
   "cell_type": "markdown",
   "id": "671d1158",
   "metadata": {},
   "source": [
    "From 1a:\n",
    "\n",
    "$T_c \\approx [125.64 L]^4\\approx 2.5x10^8 L^4$\n",
    "\n",
    "so\n",
    "\n",
    "$2.5x10^8  L^4 \\approx -1e8 M$\n",
    "\n",
    "$L \\approx [\\frac{-1e8}{2.5x10^8 }]^{1/4} M^{1/4}$"
   ]
  },
  {
   "cell_type": "code",
   "execution_count": 101,
   "id": "0a0e57c5",
   "metadata": {},
   "outputs": [
    {
     "name": "stdout",
     "output_type": "stream",
     "text": [
      "The proportionality fraction is  about 0.795.\n"
     ]
    }
   ],
   "source": [
    "port = abs((-1e8/(2.5e8))**(1/4))\n",
    "print(f'The proportionality fraction is  about {round(port,3)}.')"
   ]
  },
  {
   "cell_type": "markdown",
   "id": "7bbd1c42",
   "metadata": {},
   "source": [
    "$\\therefore$\n",
    "\n",
    "$L \\approx 0.795 M^{1/4}$\n",
    "\n",
    "and\n",
    "\n",
    "$L \\approx 0.795 R^{1/4}$"
   ]
  },
  {
   "cell_type": "markdown",
   "id": "a6d7cad1",
   "metadata": {},
   "source": [
    "**d** The observed luminosity-mass relation is actually L 9 M 3.8 (see the notes from Lecture 1).\n",
    "What is the maximum mass of a star with Solar abundance (X “ 0.7) before it exceeds the\n",
    "Eddington limit and blows off its outer layer? (2 pts)"
   ]
  },
  {
   "cell_type": "code",
   "execution_count": null,
   "id": "355a034c",
   "metadata": {},
   "outputs": [],
   "source": []
  },
  {
   "cell_type": "code",
   "execution_count": null,
   "id": "281f57b3",
   "metadata": {},
   "outputs": [],
   "source": []
  },
  {
   "cell_type": "markdown",
   "id": "0059d2fe",
   "metadata": {},
   "source": [
    "# Problem 2\n",
    "\n",
    "Energy generated by fusion in the center of a star travels slowly outward via random-walking\n",
    "photons. What is the average time for energy to reach the surface of the following stars? You can\n",
    "assume that the stars have Solar composition, are almost entirely hot and ionized, and have uniform\n",
    "opacity and density at all radii. (Uniform opacity and density is a bad assumption, and is why your\n",
    "calculations will underestimate the actual energy escape time by a factor of Á100!) (6 pts total"
   ]
  },
  {
   "cell_type": "markdown",
   "id": "60458a75",
   "metadata": {},
   "source": [
    "**a** the Sun (2 pts)"
   ]
  },
  {
   "cell_type": "markdown",
   "id": "51ff3745",
   "metadata": {},
   "source": [
    "We know we need to travel a distance equal to the radius of the sun to exit it. This is:"
   ]
  },
  {
   "cell_type": "code",
   "execution_count": 58,
   "id": "b9ef4175",
   "metadata": {},
   "outputs": [
    {
     "data": {
      "text/latex": [
       "$6.957 \\times 10^{10} \\; \\mathrm{cm}$"
      ],
      "text/plain": [
       "<Quantity 6.957e+10 cm>"
      ]
     },
     "execution_count": 58,
     "metadata": {},
     "output_type": "execute_result"
    }
   ],
   "source": [
    "rsun = c.R_sun.decompose(bases=u.cgs.bases)\n",
    "rsun"
   ]
  },
  {
   "cell_type": "markdown",
   "id": "ea00a2d4",
   "metadata": {},
   "source": [
    "We can start by considering the mean free path:\n",
    "    \n",
    "$l = \\frac{1}{\\kappa \\rho}$"
   ]
  },
  {
   "cell_type": "markdown",
   "id": "87a763be",
   "metadata": {},
   "source": [
    "We assume again that $\\kappa \\approx 0.20$.\n",
    "\n",
    "Just looking up the average density of the sun:\n"
   ]
  },
  {
   "cell_type": "code",
   "execution_count": 109,
   "id": "53a21a7e",
   "metadata": {},
   "outputs": [
    {
     "name": "stdout",
     "output_type": "stream",
     "text": [
      "We take the density of the sun as 1.530e+05 1e-06 kg / cm3.\n"
     ]
    }
   ],
   "source": [
    "rho = 1.53e5*u.kg/(u.m**3).decompose(bases=u.cgs.bases)\n",
    "print(f'We take the density of the sun as {rho.value:.3e} {rho.unit}.')"
   ]
  },
  {
   "cell_type": "markdown",
   "id": "7986e193",
   "metadata": {},
   "source": [
    "Our mean free path is then:"
   ]
  },
  {
   "cell_type": "code",
   "execution_count": 111,
   "id": "a6403d02",
   "metadata": {},
   "outputs": [
    {
     "data": {
      "text/latex": [
       "$0.0032679739 \\; \\mathrm{cm}$"
      ],
      "text/plain": [
       "<Quantity 0.00326797 cm>"
      ]
     },
     "execution_count": 111,
     "metadata": {},
     "output_type": "execute_result"
    }
   ],
   "source": [
    "l = (1/(rho*kap)).decompose(bases=u.cgs.bases)\n",
    "l"
   ]
  },
  {
   "cell_type": "markdown",
   "id": "0d588020",
   "metadata": {},
   "source": [
    "BOB 9.29 tells us that the displacement d for a random walk is:\n",
    "\n",
    "$d = l \\sqrt{N}$\n",
    "\n",
    "where N is the number of steps.\n",
    "\n",
    "The number of steps we need to take to travel a distance d is then:\n",
    "\n",
    "$N = \\frac{d^2}{l^2}$"
   ]
  },
  {
   "cell_type": "markdown",
   "id": "bb355c9d",
   "metadata": {},
   "source": [
    "For our sun this is:"
   ]
  },
  {
   "cell_type": "code",
   "execution_count": 122,
   "id": "e7eab78b",
   "metadata": {},
   "outputs": [
    {
     "name": "stdout",
     "output_type": "stream",
     "text": [
      "This takes 4.5e+26 steps.\n"
     ]
    }
   ],
   "source": [
    "N = (rsun**2)/(l**2)\n",
    "print(f'This takes {N:.1e} steps.')"
   ]
  },
  {
   "cell_type": "markdown",
   "id": "87aab9f6",
   "metadata": {},
   "source": [
    "We can assume that the photon is traveling at the speed of light. "
   ]
  },
  {
   "cell_type": "code",
   "execution_count": 127,
   "id": "4758e4e1",
   "metadata": {},
   "outputs": [
    {
     "data": {
      "text/latex": [
       "$2.9979246 \\times 10^{10} \\; \\mathrm{\\frac{cm}{s}}$"
      ],
      "text/plain": [
       "<Quantity 2.99792458e+10 cm / s>"
      ]
     },
     "execution_count": 127,
     "metadata": {},
     "output_type": "execute_result"
    }
   ],
   "source": [
    "speed = c.c.decompose(bases=u.cgs.bases)\n",
    "speed"
   ]
  },
  {
   "cell_type": "markdown",
   "id": "12ae6456",
   "metadata": {},
   "source": [
    "We can easily get the time from the path length."
   ]
  },
  {
   "cell_type": "code",
   "execution_count": 128,
   "id": "b6b8b8f5",
   "metadata": {},
   "outputs": [
    {
     "name": "stdout",
     "output_type": "stream",
     "text": [
      "The photon travels a total distance of 1.48e+24 cm.\n"
     ]
    }
   ],
   "source": [
    "path_length = N*l\n",
    "print(f'The photon travels a total distance of {path_length:.2e}.')"
   ]
  },
  {
   "cell_type": "code",
   "execution_count": 143,
   "id": "25ff70ca",
   "metadata": {},
   "outputs": [
    {
     "name": "stdout",
     "output_type": "stream",
     "text": [
      "It takes the photon a total of 4.9e+13 s or 1.6e+06 years.\n"
     ]
    }
   ],
   "source": [
    "pathtime = (path_length/speed).decompose(bases=u.cgs.bases)\n",
    "print(f'It takes the photon a total of {pathtime:.1e} or {pathtime.to(u.yr).value:.1e} years.')"
   ]
  },
  {
   "cell_type": "markdown",
   "id": "b3485bff",
   "metadata": {},
   "source": [
    "**b** Sirius A: M “ 2Md, R “ 1.7Rd (2 pts"
   ]
  },
  {
   "cell_type": "markdown",
   "id": "31e7c4f4",
   "metadata": {},
   "source": [
    "Simple to replicate. We will just assume the same densities as the sun."
   ]
  },
  {
   "cell_type": "code",
   "execution_count": 151,
   "id": "11d3940d",
   "metadata": {},
   "outputs": [
    {
     "name": "stdout",
     "output_type": "stream",
     "text": [
      "This takes 7.7e+26 steps.\n"
     ]
    }
   ],
   "source": [
    "N = (1.7*rsun**2)/(l**2)\n",
    "print(f'This takes {N:.1e} steps.')"
   ]
  },
  {
   "cell_type": "code",
   "execution_count": 152,
   "id": "fae0c642",
   "metadata": {},
   "outputs": [
    {
     "name": "stdout",
     "output_type": "stream",
     "text": [
      "The photon travels a total distance of 2.52e+24 cm.\n"
     ]
    }
   ],
   "source": [
    "path_length = N*l\n",
    "print(f'The photon travels a total distance of {path_length:.2e}.')"
   ]
  },
  {
   "cell_type": "code",
   "execution_count": 153,
   "id": "787676c1",
   "metadata": {},
   "outputs": [
    {
     "name": "stdout",
     "output_type": "stream",
     "text": [
      "It takes the photon a total of 8.4e+13 s or 2.7e+06 years.\n"
     ]
    }
   ],
   "source": [
    "pathtime = (path_length/speed).decompose(bases=u.cgs.bases)\n",
    "print(f'It takes the photon a total of {pathtime:.1e} or {pathtime.to(u.yr).value:.1e} years.')"
   ]
  },
  {
   "cell_type": "markdown",
   "id": "2f03ddaf",
   "metadata": {},
   "source": [
    "**c** Betelgeuse: M » 20Md, R » 100Rd (2 pts)"
   ]
  },
  {
   "cell_type": "code",
   "execution_count": 154,
   "id": "96b906cb",
   "metadata": {},
   "outputs": [
    {
     "name": "stdout",
     "output_type": "stream",
     "text": [
      "This takes 4.5e+28 steps.\n"
     ]
    }
   ],
   "source": [
    "N = (100*rsun**2)/(l**2)\n",
    "print(f'This takes {N:.1e} steps.')"
   ]
  },
  {
   "cell_type": "code",
   "execution_count": 155,
   "id": "54d0e84c",
   "metadata": {},
   "outputs": [
    {
     "name": "stdout",
     "output_type": "stream",
     "text": [
      "The photon travels a total distance of 1.48e+26 cm.\n"
     ]
    }
   ],
   "source": [
    "path_length = N*l\n",
    "print(f'The photon travels a total distance of {path_length:.2e}.')"
   ]
  },
  {
   "cell_type": "code",
   "execution_count": 156,
   "id": "d00ef014",
   "metadata": {},
   "outputs": [
    {
     "name": "stdout",
     "output_type": "stream",
     "text": [
      "It takes the photon a total of 4.9e+15 s or 1.6e+08 years.\n"
     ]
    }
   ],
   "source": [
    "pathtime = (path_length/speed).decompose(bases=u.cgs.bases)\n",
    "print(f'It takes the photon a total of {pathtime:.1e} or {pathtime.to(u.yr).value:.1e} years.')"
   ]
  },
  {
   "cell_type": "markdown",
   "id": "f88e53d3",
   "metadata": {},
   "source": [
    "# Problem 3 \n",
    "\n",
    "Main sequence stars fuse hydrogen into helium by one of two pathways: the p-p chain and the CNO\n",
    "cycle. These reactions can be approximated as:\n",
    "\u000fpp » \u000f1\n",
    "0,ppρX2T 4\n",
    "6 (1)\n",
    "\u000fCN O » \u000f1\n",
    "0,CN OρXXCN OT 19.9\n",
    "6 (2)\n",
    "These equations neglect electron screening, alternate reaction chains, and higher-order terms. The\n",
    "variables are density ρ, temperature T6 “ T {p106K), hydrogen abundance X “ 0.7, abundance of\n",
    "C+N+O XCN O “ 0.0081, \u000f1\n",
    "0,pp “ 1.08ˆ10 ́7 erg s ́1 cm3 g ́2, and \u000f1\n",
    "0,CN O “ 8.24ˆ10 ́26 erg s ́1 cm3 g ́2.\n",
    "What is the fraction of energy generated by each process in the following stars? (6 pts total)"
   ]
  },
  {
   "cell_type": "markdown",
   "id": "57d8ed6a",
   "metadata": {},
   "source": [
    "**a** the Sun with: Tc “ 15.7 ˆ 106 K, ρc “ 150 g/cm3. (2 pts)"
   ]
  },
  {
   "cell_type": "code",
   "execution_count": null,
   "id": "4ea5e98c",
   "metadata": {},
   "outputs": [],
   "source": []
  },
  {
   "cell_type": "markdown",
   "id": "2c46d833",
   "metadata": {},
   "source": [
    "**b** Sirius A, with M “ 2.06Md and R “ 1.71Rd. Use this mass and radius to estimate Tc from\n",
    "the relation derived in problem 1b, and similarly scale central density from the Solar value\n",
    "using the ratio between the mean density of Sirius and the Sun. (3 pts)"
   ]
  },
  {
   "cell_type": "code",
   "execution_count": null,
   "id": "7248e2bd",
   "metadata": {},
   "outputs": [],
   "source": []
  },
  {
   "cell_type": "markdown",
   "id": "320141d8",
   "metadata": {},
   "source": [
    "**c** Assuming that both stars have the same fraction of mass available for hydrogen burning (i.e.,\n",
    "Sirius A has 2.06 times more mass available for hydrogen fusion), what is the ratio between\n",
    "the total H-burning fusion energy output of Sirius compared to the Sun? Why is this different\n",
    "from the ratio of the surface luminosities observed as L 9 M 3.8? (1 pt)"
   ]
  },
  {
   "cell_type": "code",
   "execution_count": null,
   "id": "5ab5ff67",
   "metadata": {},
   "outputs": [],
   "source": []
  },
  {
   "cell_type": "markdown",
   "id": "b5e64349",
   "metadata": {},
   "source": [
    "# Problem 4\n",
    "\n",
    "Massive (Á100Md) stars have an equation of state dominated by radiation pressure rather than the\n",
    "ideal gas law. How is L proportional to M and R for massive stars? (5 pts"
   ]
  },
  {
   "cell_type": "markdown",
   "id": "4f3e979e",
   "metadata": {},
   "source": [
    "We can follow our steps from problem 1, just replacing our ideal gas equations with radiation pressure equations."
   ]
  },
  {
   "cell_type": "markdown",
   "id": "c45cba8f",
   "metadata": {},
   "source": [
    "\n",
    "for energy trasport by radiation:\n",
    "\n",
    "$\\frac{dT}{dr} = \\frac{-3 \\kappa \\rho}{64 \\pi \\sigma_{sb} T^3} \\frac{L}{R^2}$"
   ]
  },
  {
   "cell_type": "markdown",
   "id": "b0458b37",
   "metadata": {},
   "source": [
    "We follow the same steps in 1a. to come to the same equations:\n",
    "\n",
    "This gives our proportionality relations in cgs base units:\n",
    "\n",
    "\n",
    "$T_c \\approx [125.64 M]^4 \\approx 2.5x10^8 M^4$\n",
    "\n",
    "$T_c \\approx [125.64 L]^4\\approx 2.5x10^8 L^4$\n",
    "\n",
    "$T_c \\approx [125.64 R^{-3}]^4 \\approx 2.5x10^8 R$\n",
    "\n",
    "Now, instead of using an ideal gas aproximation, we will use the radiation pressure equation."
   ]
  },
  {
   "cell_type": "markdown",
   "id": "b48b465a",
   "metadata": {},
   "source": [
    "The hydrostatic equilibrium equation:\n",
    "\n",
    "$\\frac{dP}{dr} = \\frac{-Gm\\rho}{r^2}$"
   ]
  },
  {
   "cell_type": "markdown",
   "id": "e855515b",
   "metadata": {},
   "source": [
    "For radiation pressure (from textbook page 31),\n",
    "\n",
    "$P = \\frac{1}{3}aT^4$\n",
    "\n",
    "where\n",
    "\n",
    "$a = 7.56 x 10^{-15} \\frac{erg}{cm^3 K^4}$"
   ]
  },
  {
   "cell_type": "markdown",
   "id": "0fcf5a4f",
   "metadata": {},
   "source": [
    "Integrating the pressure equation:\n",
    "\n",
    "$\\int dP = -Gm\\rho \\int_{0}^{R}  r^{-2} dr$"
   ]
  },
  {
   "cell_type": "markdown",
   "id": "ac214277",
   "metadata": {},
   "source": [
    "$P = -G\\frac{m^2}{V} \\frac{-1}{R} $"
   ]
  },
  {
   "cell_type": "markdown",
   "id": "b9844521",
   "metadata": {},
   "source": [
    "$P = \\frac{G m^2}{V R}$"
   ]
  },
  {
   "cell_type": "markdown",
   "id": "ec660cb7",
   "metadata": {},
   "source": [
    "$P = \\frac{3 G m^2}{R 4 \\pi R^3}$"
   ]
  },
  {
   "cell_type": "markdown",
   "id": "dc4949f5",
   "metadata": {},
   "source": [
    "$P = \\frac{3 Gm^2}{4 \\pi R^4}$"
   ]
  },
  {
   "cell_type": "markdown",
   "id": "a9129950",
   "metadata": {},
   "source": [
    "Setting this equal to radiation pressure,\n",
    "\n",
    "$\\frac{3 Gm^2}{4 \\pi R^4} = \\frac{1}{3}aT^4$"
   ]
  },
  {
   "cell_type": "markdown",
   "id": "ff76f666",
   "metadata": {},
   "source": [
    "$T = \\frac{9 GM^2}{4 \\pi a R^4}$\n",
    "\n",
    "$T = \\frac{9 G}{4 \\pi a }\\frac{M^2}{R^4}$"
   ]
  },
  {
   "cell_type": "code",
   "execution_count": null,
   "id": "e4304dff",
   "metadata": {},
   "outputs": [],
   "source": []
  }
 ],
 "metadata": {
  "kernelspec": {
   "display_name": "Python 3",
   "language": "python",
   "name": "python3"
  },
  "language_info": {
   "codemirror_mode": {
    "name": "ipython",
    "version": 3
   },
   "file_extension": ".py",
   "mimetype": "text/x-python",
   "name": "python",
   "nbconvert_exporter": "python",
   "pygments_lexer": "ipython3",
   "version": "3.9.6"
  }
 },
 "nbformat": 4,
 "nbformat_minor": 5
}
