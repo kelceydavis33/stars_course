{
 "cells": [
  {
   "cell_type": "markdown",
   "id": "e04e6194",
   "metadata": {},
   "source": [
    "# Homework 3\n",
    "\n",
    "---\n",
    "Kelcey Davis\n",
    "\n",
    "Estimated time to complete:\n",
    "\n",
    "Colaboratiors:"
   ]
  },
  {
   "cell_type": "code",
   "execution_count": 2,
   "id": "4298f017",
   "metadata": {},
   "outputs": [],
   "source": [
    "import astropy.units as u\n",
    "import astropy.constants as c\n",
    "from astropy.coordinates import SkyCoord\n",
    "from astropy.time import Time\n",
    "import numpy as np\n",
    "import matplotlib.pyplot as plt\n",
    "import pandas as pd\n",
    "import glob\n",
    "%matplotlib inline"
   ]
  },
  {
   "cell_type": "code",
   "execution_count": 3,
   "id": "d2f9672d",
   "metadata": {},
   "outputs": [],
   "source": [
    "plt.rcParams['figure.figsize'] = (10, 10)\n",
    "plt.rc('axes', labelsize=14)\n",
    "plt.rc('axes', labelweight='bold')\n",
    "plt.rc('axes', titlesize=16)\n",
    "plt.rc('axes', titleweight='bold')\n",
    "plt.rc('font', family='sans-serif')"
   ]
  },
  {
   "cell_type": "markdown",
   "id": "3b51465d",
   "metadata": {},
   "source": [
    "# Problem 1\n",
    "\n",
    "Most main-sequence stars are in hydrostatic equilibrium, have an equation of state dominated by\n",
    "the ideal gas law, and have energy transport dominated by radiation. (8 pts total)"
   ]
  },
  {
   "cell_type": "markdown",
   "id": "8960b5fc",
   "metadata": {},
   "source": [
    "**a** Simplify the energy transport equation as dT {dr „  ́Tc{R and with Teff 9 Tc. Using the\n",
    "appropriate opacity for a hot ionized star, what is the proportionality of the central temperature\n",
    "Tc with total mass M , luminosity L, and radius R? (2 pts)"
   ]
  },
  {
   "cell_type": "markdown",
   "id": "fc40ae50",
   "metadata": {},
   "source": [
    "**answer**\n",
    "\n",
    "From notes 2/14:\n",
    "\n",
    "for energy trasport by radiation:\n",
    "\n",
    "$\\frac{dT}{dr} = \\frac{-3 \\kappa \\rho}{64 \\pi \\sigma_{sb} T^3} \\frac{L}{R^2}$"
   ]
  },
  {
   "cell_type": "markdown",
   "id": "13629291",
   "metadata": {},
   "source": [
    "with this substitution,\n",
    "\n",
    "$\\frac{-T_c}{R} = \\frac{-3 \\kappa \\rho}{64 \\pi \\sigma_{sb} T_{eff}^3}  \\frac{L}{R^2}$"
   ]
  },
  {
   "cell_type": "markdown",
   "id": "baa61c62",
   "metadata": {},
   "source": [
    "We will assume that $T_c \\approx T_{eff} \\approx T$\n",
    "\n",
    "\n",
    "$\\frac{-T}{R} = \\frac{-3 \\kappa \\rho}{64 \\pi \\sigma_{sb} T^3}  \\frac{L}{R^2}$"
   ]
  },
  {
   "cell_type": "markdown",
   "id": "29ac3364",
   "metadata": {},
   "source": [
    "$T_c^4 = \\frac{3 \\kappa M R}{V 64 \\pi \\sigma_{sb}}  \\frac{L}{R^2}$"
   ]
  },
  {
   "cell_type": "markdown",
   "id": "234a098f",
   "metadata": {},
   "source": [
    "$T_c^4 = \\frac{3 \\kappa M R}{\\frac{4}{3}\\pi R^2 64 \\pi \\sigma_{sb}} \\frac{L}{R^2}$"
   ]
  },
  {
   "cell_type": "markdown",
   "id": "bc94e884",
   "metadata": {},
   "source": [
    "$T_c^4 = \\frac{9 \\kappa M L}{4\\pi R^3 64 \\pi \\sigma_{sb}}$"
   ]
  },
  {
   "cell_type": "markdown",
   "id": "f4231ac7",
   "metadata": {},
   "source": [
    "$T_c^4 = \\kappa \\frac{9  }{256} \\frac{M L}{R^3 \\pi^2 \\sigma_{sb}}$"
   ]
  },
  {
   "cell_type": "markdown",
   "id": "5c1c2c19",
   "metadata": {},
   "source": [
    "We need to make an assumption about opacity. We will assume that:\n",
    "\n",
    "$\\kappa \\approx \\frac{m}{V} T^{-7/2}$\n",
    "\n",
    "But for simplicity, we will just assume a value of \n",
    "\n",
    "$\\kappa \\approx 0.20$ or"
   ]
  },
  {
   "cell_type": "code",
   "execution_count": 4,
   "id": "0397ecdc",
   "metadata": {},
   "outputs": [
    {
     "data": {
      "text/latex": [
       "$0.2 \\; \\mathrm{\\frac{cm^{2}}{g}}$"
      ],
      "text/plain": [
       "<Quantity 0.2 cm2 / g>"
      ]
     },
     "execution_count": 4,
     "metadata": {},
     "output_type": "execute_result"
    }
   ],
   "source": [
    "kap = (0.020*(u.m**2)/u.kg).decompose(bases=u.cgs.bases)\n",
    "kap"
   ]
  },
  {
   "cell_type": "markdown",
   "id": "9ac3d334",
   "metadata": {},
   "source": [
    "Our equation becomes:\n",
    "\n",
    "$T_c^4 = 0.20 \\frac{9  }{256 \\pi^2 \\sigma_{sb}} \\frac{M L}{R^3}$\n",
    "\n",
    "We will use a steffan-boltzman constant value of:"
   ]
  },
  {
   "cell_type": "code",
   "execution_count": 5,
   "id": "b0d8ef8c",
   "metadata": {},
   "outputs": [
    {
     "data": {
      "text/latex": [
       "$5.6703744 \\times 10^{-5} \\; \\mathrm{\\frac{g}{s^{3}\\,K^{4}}}$"
      ],
      "text/plain": [
       "<Quantity 5.67037442e-05 g / (K4 s3)>"
      ]
     },
     "execution_count": 5,
     "metadata": {},
     "output_type": "execute_result"
    }
   ],
   "source": [
    "#decomposing the constant from astropy in cgs base units\n",
    "sig = c.sigma_sb.decompose(bases=u.cgs.bases)\n",
    "sig"
   ]
  },
  {
   "cell_type": "markdown",
   "id": "6922265f",
   "metadata": {},
   "source": [
    "making our proportionality constant:\n",
    "\n",
    "$0.20 \\frac{9  }{256 \\pi^2 \\sigma_{sb}}$\n",
    "\n",
    "which simplifies to:\n"
   ]
  },
  {
   "cell_type": "code",
   "execution_count": 6,
   "id": "e17e1c33",
   "metadata": {},
   "outputs": [
    {
     "name": "stdout",
     "output_type": "stream",
     "text": [
      "The proportionality constant simplifies to 12.56.\n"
     ]
    }
   ],
   "source": [
    "prop = kap.value*9/(256*(np.pi**2)*sig.value)\n",
    "print(f'The proportionality constant simplifies to {round(prop,2)}.')"
   ]
  },
  {
   "cell_type": "markdown",
   "id": "0721c122",
   "metadata": {},
   "source": [
    "Making our equation:\n",
    "\n",
    "$T_c^4 = 12.564 \\frac{M L}{R^3}$"
   ]
  },
  {
   "cell_type": "code",
   "execution_count": 10,
   "id": "f4e2c958",
   "metadata": {},
   "outputs": [
    {
     "name": "stdout",
     "output_type": "stream",
     "text": [
      "The constant to the one fourth is 1.8827037252467693.\n"
     ]
    }
   ],
   "source": [
    "print(f'The constant to the one fourth is {12.564**(1/4)}.')"
   ]
  },
  {
   "cell_type": "markdown",
   "id": "a636c4cf",
   "metadata": {},
   "source": [
    "This gives our proportionality relations in cgs base units:\n",
    "\n",
    "\n",
    "$T_c \\approx [12.564 M]^{1/4} \\approx 1.88 M^{1/4} $\n",
    "\n",
    "$T_c \\approx [12.564 L]^{1/4}  \\approx 1.88 L^{1/4} $\n",
    "\n",
    "$T_c \\approx [12.564 R^{-3}]^{1/4} \\approx 1.88 R^{-3/4} $"
   ]
  },
  {
   "cell_type": "markdown",
   "id": "ff662f64",
   "metadata": {},
   "source": [
    "**b** Now derive the proportionality of Tc with M and R using the hydrostatic equilibrium equation\n",
    "and the ideal gas law. Again, you can simplify by assuming that dP {dr „  ́Pc{R and that the\n",
    "central density ρc 9  ̄ρ. (2 pts)"
   ]
  },
  {
   "cell_type": "markdown",
   "id": "677ebabd",
   "metadata": {},
   "source": [
    "The hydrostatic equilibrium equation:\n",
    "\n",
    "$\\frac{dP}{dr} = \\frac{-Gm\\rho}{r^2}$"
   ]
  },
  {
   "cell_type": "markdown",
   "id": "b7d2474e",
   "metadata": {},
   "source": [
    "For ideal gas,\n",
    "\n",
    "$\\gamma_{ad} = \\frac{5}{3}$\n",
    "\n",
    "$P = \\frac{\\rho}{\\mu m_H}kT = \\frac{3 m}{\\mu m_H 4 \\pi r^3}kT$\n"
   ]
  },
  {
   "cell_type": "markdown",
   "id": "56126b6e",
   "metadata": {},
   "source": [
    "$\\frac{dP}{dr} =\\frac{3 m}{\\mu m_H 4 \\pi}kT \\frac{1}{r^3}$\n",
    "\n",
    "$\\frac{-P_c}{R} =\\frac{3 m}{\\mu m_H 4 \\pi}kT \\frac{1}{r^3}$"
   ]
  },
  {
   "cell_type": "markdown",
   "id": "f317d372",
   "metadata": {},
   "source": [
    "$P_c =\\frac{-3 m R}{\\mu m_H 4 \\pi}kT \\frac{1}{r^3}$\n",
    "\n",
    "$P_c =\\frac{-3 m}{\\mu m_H 4 \\pi}kT \\frac{1}{R^2}$"
   ]
  },
  {
   "cell_type": "markdown",
   "id": "d6c6566d",
   "metadata": {},
   "source": [
    "hydrostatic equilibrium gives:"
   ]
  },
  {
   "cell_type": "markdown",
   "id": "07452f6c",
   "metadata": {},
   "source": [
    "$\\frac{dP}{dr} = \\frac{-Gm\\rho}{r^2}$\n",
    "\n",
    "$\\frac{-P_c}{R} = \\frac{-Gm\\rho}{r^2}$"
   ]
  },
  {
   "cell_type": "markdown",
   "id": "a383ea68",
   "metadata": {},
   "source": [
    "$P = \\frac{Gm\\rho}{R}$"
   ]
  },
  {
   "cell_type": "markdown",
   "id": "8f791c01",
   "metadata": {},
   "source": [
    "$\\frac{-3 m}{\\mu m_H 4 \\pi}kT \\frac{1}{R^2} = \\frac{Gm\\rho}{R}$"
   ]
  },
  {
   "cell_type": "markdown",
   "id": "cc6e6d31",
   "metadata": {},
   "source": [
    "$T = \\frac{Gm\\rho}{R} \\frac{R^2 \\mu m_H 4 \\pi}{-3mk}$"
   ]
  },
  {
   "cell_type": "markdown",
   "id": "1ae7c6ad",
   "metadata": {},
   "source": [
    "$T = \\frac{3Gm^2}{4R \\pi R^3} \\frac{R^2 \\mu m_H 4 \\pi}{-3mk}$"
   ]
  },
  {
   "cell_type": "markdown",
   "id": "bac19e47",
   "metadata": {},
   "source": [
    "$T = \\frac{-Gm}{ R^2} \\frac{ \\mu m_H }{k}$"
   ]
  },
  {
   "cell_type": "markdown",
   "id": "4f955e4e",
   "metadata": {},
   "source": [
    "Assuming that the sun is mostly fully ionized, we can assume:\n",
    "\n",
    "$\\mu m_H \\approx 0.62$"
   ]
  },
  {
   "cell_type": "markdown",
   "id": "fcc91b11",
   "metadata": {},
   "source": [
    "$T_c \\approx \\frac{-G 0.62}{k} \\frac{M}{R^2}$"
   ]
  },
  {
   "cell_type": "markdown",
   "id": "3a6c25ab",
   "metadata": {},
   "source": [
    "Decomposing our constants in to base cgs units:\n",
    "\n",
    "G is"
   ]
  },
  {
   "cell_type": "code",
   "execution_count": 16,
   "id": "51aa7750",
   "metadata": {},
   "outputs": [
    {
     "data": {
      "text/latex": [
       "$6.6743 \\times 10^{-8} \\; \\mathrm{\\frac{cm^{3}}{g\\,s^{2}}}$"
      ],
      "text/plain": [
       "<Quantity 6.6743e-08 cm3 / (g s2)>"
      ]
     },
     "execution_count": 16,
     "metadata": {},
     "output_type": "execute_result"
    }
   ],
   "source": [
    "g = c.G.decompose(bases=u.cgs.bases)\n",
    "g"
   ]
  },
  {
   "cell_type": "code",
   "execution_count": 17,
   "id": "32cf16fa",
   "metadata": {},
   "outputs": [
    {
     "data": {
      "text/latex": [
       "$1.380649 \\times 10^{-16} \\; \\mathrm{\\frac{cm^{2}\\,g}{K\\,s^{2}}}$"
      ],
      "text/plain": [
       "<Quantity 1.380649e-16 cm2 g / (K s2)>"
      ]
     },
     "execution_count": 17,
     "metadata": {},
     "output_type": "execute_result"
    }
   ],
   "source": [
    "k = c.k_B.decompose(bases=u.cgs.bases)\n",
    "k"
   ]
  },
  {
   "cell_type": "markdown",
   "id": "9265efb7",
   "metadata": {},
   "source": [
    "The proportionality fraction becomes:"
   ]
  },
  {
   "cell_type": "code",
   "execution_count": 19,
   "id": "6ca66e57",
   "metadata": {},
   "outputs": [
    {
     "data": {
      "text/latex": [
       "$-2.997189 \\times 10^{8} \\; \\mathrm{\\frac{s^{2}\\,K}{g\\,cm^{2}}}$"
      ],
      "text/plain": [
       "<Quantity -2.997189e+08 K s2 / (cm2 g)>"
      ]
     },
     "execution_count": 19,
     "metadata": {},
     "output_type": "execute_result"
    }
   ],
   "source": [
    "frac = -1*g.value*0.62/(k)\n",
    "frac"
   ]
  },
  {
   "cell_type": "code",
   "execution_count": 20,
   "id": "c37a80d4",
   "metadata": {},
   "outputs": [
    {
     "name": "stdout",
     "output_type": "stream",
     "text": [
      "or -3.00e+08 K s2 / (cm2 g)\n"
     ]
    }
   ],
   "source": [
    "print(f'or {frac.value:.2e} {frac.unit}')"
   ]
  },
  {
   "cell_type": "markdown",
   "id": "5ac57c50",
   "metadata": {},
   "source": [
    "Our equations become:\n",
    "\n",
    "$T_c \\approx -3x10^8 M$\n",
    "\n",
    "$T_c \\approx -3x10^8 R^{-2}$"
   ]
  },
  {
   "cell_type": "markdown",
   "id": "1d5d221e",
   "metadata": {},
   "source": [
    "**c**  Combine the two equations above to derive the proportionality of L with M and R for a typical\n",
    "main sequence star. (2 pts)"
   ]
  },
  {
   "cell_type": "markdown",
   "id": "756b4d79",
   "metadata": {},
   "source": [
    "From 1a:\n",
    "\n",
    "$T_c \\approx [12.564 L]^{1/4}  \\approx 1.88 L^{1/4} $\n",
    "\n",
    "so\n",
    "\n",
    "$1.88  L^{1/4} \\approx -3e8 M$\n",
    "\n",
    "$L \\approx [\\frac{-3e8}{1.88}]^{4} M^{4}$"
   ]
  },
  {
   "cell_type": "code",
   "execution_count": 21,
   "id": "71fb3bbf",
   "metadata": {},
   "outputs": [
    {
     "name": "stdout",
     "output_type": "stream",
     "text": [
      "The proportionality fraction is  about 8.005133942157285e+30.\n"
     ]
    }
   ],
   "source": [
    "port = ((-1e8/(1.88))**(4))\n",
    "print(f'The proportionality fraction is  about {round(port,3)}.')"
   ]
  },
  {
   "cell_type": "markdown",
   "id": "8cae6e98",
   "metadata": {},
   "source": [
    "$\\therefore$\n",
    "\n",
    "$L \\approx 8x10^{30} M^{4}$\n",
    "\n",
    "and\n",
    "\n",
    "$L \\approx 8x10^{30} R^{2}$"
   ]
  },
  {
   "cell_type": "markdown",
   "id": "a6d7cad1",
   "metadata": {},
   "source": [
    "**d** The observed luminosity-mass relation is actually L 9 M 3.8 (see the notes from Lecture 1).\n",
    "What is the maximum mass of a star with Solar abundance (X “ 0.7) before it exceeds the\n",
    "Eddington limit and blows off its outer layer? (2 pts)"
   ]
  },
  {
   "cell_type": "markdown",
   "id": "e7fafbeb",
   "metadata": {},
   "source": [
    "$\\frac{L_*}{L_0} = [\\frac{M_*}{M_0}]^{3.8}$"
   ]
  },
  {
   "cell_type": "markdown",
   "id": "3764aea7",
   "metadata": {},
   "source": [
    "let $L_*$ be the eddington Luminosity\n",
    "\n",
    "$L_* = L_0 [\\frac{M_*}{M_0}]^{3.8}$"
   ]
  },
  {
   "cell_type": "markdown",
   "id": "edaa2439",
   "metadata": {},
   "source": [
    "via wikipedia, the eddington luminosity is given as:\n",
    "\n",
    "$L_* = 3.2 x 10^{4} \\frac{M_*}{M_0}L_0$\n",
    "\n",
    "$3.2 x 10^{4} \\frac{M_*}{M_0}L_0 = L_0 [\\frac{M_*}{M_0}]^{3.8}$"
   ]
  },
  {
   "cell_type": "markdown",
   "id": "9607e2f9",
   "metadata": {},
   "source": [
    "$3.2x10^{4} = \\frac{M_*^{3.8}}{M_0^{3.8}} \\frac{M_0}{M_*}$\n",
    "\n",
    "$3.2x10^{4} = \\frac{M_*^{2.8}}{M_0^{2.8}} $"
   ]
  },
  {
   "cell_type": "markdown",
   "id": "aa2ac376",
   "metadata": {},
   "source": [
    "$M_* = [3.2 x 10^4 M_0^{2.8}]^{1/2.8}$"
   ]
  },
  {
   "cell_type": "code",
   "execution_count": 42,
   "id": "489f162a",
   "metadata": {},
   "outputs": [
    {
     "name": "stdout",
     "output_type": "stream",
     "text": [
      "The mass limit is 8.08e+31 kg.\n"
     ]
    }
   ],
   "source": [
    "Mstar = (3.2e4 * c.M_sun**(2.8))**(1/2.8)\n",
    "print(f'The mass limit is {Mstar:.2e}.')"
   ]
  },
  {
   "cell_type": "markdown",
   "id": "0059d2fe",
   "metadata": {},
   "source": [
    "# Problem 2\n",
    "\n",
    "Energy generated by fusion in the center of a star travels slowly outward via random-walking\n",
    "photons. What is the average time for energy to reach the surface of the following stars? You can\n",
    "assume that the stars have Solar composition, are almost entirely hot and ionized, and have uniform\n",
    "opacity and density at all radii. (Uniform opacity and density is a bad assumption, and is why your\n",
    "calculations will underestimate the actual energy escape time by a factor of Á100!) (6 pts total"
   ]
  },
  {
   "cell_type": "markdown",
   "id": "60458a75",
   "metadata": {},
   "source": [
    "**a** the Sun (2 pts)"
   ]
  },
  {
   "cell_type": "markdown",
   "id": "b6faf256",
   "metadata": {},
   "source": [
    "We know we need to travel a distance equal to the radius of the sun to exit it. This is:"
   ]
  },
  {
   "cell_type": "code",
   "execution_count": 25,
   "id": "b9ef4175",
   "metadata": {},
   "outputs": [
    {
     "data": {
      "text/latex": [
       "$6.957 \\times 10^{10} \\; \\mathrm{cm}$"
      ],
      "text/plain": [
       "<Quantity 6.957e+10 cm>"
      ]
     },
     "execution_count": 25,
     "metadata": {},
     "output_type": "execute_result"
    }
   ],
   "source": [
    "rsun = c.R_sun.decompose(bases=u.cgs.bases)\n",
    "rsun"
   ]
  },
  {
   "cell_type": "markdown",
   "id": "8b616bee",
   "metadata": {},
   "source": [
    "We can start by considering the mean free path:\n",
    "    \n",
    "$l = \\frac{1}{\\kappa \\rho}$"
   ]
  },
  {
   "cell_type": "markdown",
   "id": "16ac13cf",
   "metadata": {},
   "source": [
    "We assume again that $\\kappa \\approx 0.20$.\n",
    "\n",
    "Just looking up the average density of the sun:\n"
   ]
  },
  {
   "cell_type": "code",
   "execution_count": 26,
   "id": "19c730a6",
   "metadata": {},
   "outputs": [
    {
     "name": "stdout",
     "output_type": "stream",
     "text": [
      "We take the density of the sun as 1.530e+05 1e-06 kg / cm3.\n"
     ]
    }
   ],
   "source": [
    "rho = 1.53e5*u.kg/(u.m**3).decompose(bases=u.cgs.bases)\n",
    "print(f'We take the density of the sun as {rho.value:.3e} {rho.unit}.')"
   ]
  },
  {
   "cell_type": "markdown",
   "id": "822270a5",
   "metadata": {},
   "source": [
    "Our mean free path is then:"
   ]
  },
  {
   "cell_type": "code",
   "execution_count": 27,
   "id": "f3380bf1",
   "metadata": {},
   "outputs": [
    {
     "data": {
      "text/latex": [
       "$0.032679739 \\; \\mathrm{cm}$"
      ],
      "text/plain": [
       "<Quantity 0.03267974 cm>"
      ]
     },
     "execution_count": 27,
     "metadata": {},
     "output_type": "execute_result"
    }
   ],
   "source": [
    "l = (1/(rho*kap)).decompose(bases=u.cgs.bases)\n",
    "l"
   ]
  },
  {
   "cell_type": "markdown",
   "id": "7938ff43",
   "metadata": {},
   "source": [
    "BOB 9.29 tells us that the displacement d for a random walk is:\n",
    "\n",
    "$d = l \\sqrt{N}$\n",
    "\n",
    "where N is the number of steps.\n",
    "\n",
    "The number of steps we need to take to travel a distance d is then:\n",
    "\n",
    "$N = \\frac{d^2}{l^2}$"
   ]
  },
  {
   "cell_type": "markdown",
   "id": "f53c5f8a",
   "metadata": {},
   "source": [
    "For our sun this is:"
   ]
  },
  {
   "cell_type": "code",
   "execution_count": 28,
   "id": "31d00a8c",
   "metadata": {},
   "outputs": [
    {
     "name": "stdout",
     "output_type": "stream",
     "text": [
      "This takes 4.5e+24 steps.\n"
     ]
    }
   ],
   "source": [
    "N = (rsun**2)/(l**2)\n",
    "print(f'This takes {N:.1e} steps.')"
   ]
  },
  {
   "cell_type": "markdown",
   "id": "71314d38",
   "metadata": {},
   "source": [
    "We can assume that the photon is traveling at the speed of light. "
   ]
  },
  {
   "cell_type": "code",
   "execution_count": 29,
   "id": "6ccc893b",
   "metadata": {},
   "outputs": [
    {
     "data": {
      "text/latex": [
       "$2.9979246 \\times 10^{10} \\; \\mathrm{\\frac{cm}{s}}$"
      ],
      "text/plain": [
       "<Quantity 2.99792458e+10 cm / s>"
      ]
     },
     "execution_count": 29,
     "metadata": {},
     "output_type": "execute_result"
    }
   ],
   "source": [
    "speed = c.c.decompose(bases=u.cgs.bases)\n",
    "speed"
   ]
  },
  {
   "cell_type": "markdown",
   "id": "76eaffaf",
   "metadata": {},
   "source": [
    "We can easily get the time from the path length."
   ]
  },
  {
   "cell_type": "code",
   "execution_count": 30,
   "id": "98aaff55",
   "metadata": {},
   "outputs": [
    {
     "name": "stdout",
     "output_type": "stream",
     "text": [
      "The photon travels a total distance of 1.48e+23 cm.\n"
     ]
    }
   ],
   "source": [
    "path_length = N*l\n",
    "print(f'The photon travels a total distance of {path_length:.2e}.')"
   ]
  },
  {
   "cell_type": "code",
   "execution_count": 31,
   "id": "c39ea54e",
   "metadata": {},
   "outputs": [
    {
     "name": "stdout",
     "output_type": "stream",
     "text": [
      "It takes the photon a total of 4.9e+12 s or 1.6e+05 years.\n"
     ]
    }
   ],
   "source": [
    "pathtime = (path_length/speed).decompose(bases=u.cgs.bases)\n",
    "print(f'It takes the photon a total of {pathtime:.1e} or {pathtime.to(u.yr).value:.1e} years.')"
   ]
  },
  {
   "cell_type": "markdown",
   "id": "b3485bff",
   "metadata": {},
   "source": [
    "**b** Sirius A: M “ 2Md, R “ 1.7Rd (2 pts"
   ]
  },
  {
   "cell_type": "markdown",
   "id": "1a506baa",
   "metadata": {},
   "source": [
    "Simple to replicate. We will just assume the same densities as the sun."
   ]
  },
  {
   "cell_type": "code",
   "execution_count": 32,
   "id": "d45d06ad",
   "metadata": {},
   "outputs": [
    {
     "name": "stdout",
     "output_type": "stream",
     "text": [
      "This takes 7.7e+24 steps.\n"
     ]
    }
   ],
   "source": [
    "N = (1.7*rsun**2)/(l**2)\n",
    "print(f'This takes {N:.1e} steps.')"
   ]
  },
  {
   "cell_type": "code",
   "execution_count": 33,
   "id": "7958fef9",
   "metadata": {},
   "outputs": [
    {
     "name": "stdout",
     "output_type": "stream",
     "text": [
      "The photon travels a total distance of 2.52e+23 cm.\n"
     ]
    }
   ],
   "source": [
    "path_length = N*l\n",
    "print(f'The photon travels a total distance of {path_length:.2e}.')"
   ]
  },
  {
   "cell_type": "code",
   "execution_count": 34,
   "id": "71d24fa2",
   "metadata": {},
   "outputs": [
    {
     "name": "stdout",
     "output_type": "stream",
     "text": [
      "It takes the photon a total of 8.4e+12 s or 2.7e+05 years.\n"
     ]
    }
   ],
   "source": [
    "pathtime = (path_length/speed).decompose(bases=u.cgs.bases)\n",
    "print(f'It takes the photon a total of {pathtime:.1e} or {pathtime.to(u.yr).value:.1e} years.')"
   ]
  },
  {
   "cell_type": "markdown",
   "id": "2f03ddaf",
   "metadata": {},
   "source": [
    "**c** Betelgeuse: M » 20Md, R » 100Rd (2 pts)"
   ]
  },
  {
   "cell_type": "code",
   "execution_count": 35,
   "id": "96b906cb",
   "metadata": {},
   "outputs": [
    {
     "name": "stdout",
     "output_type": "stream",
     "text": [
      "This takes 4.5e+26 steps.\n"
     ]
    }
   ],
   "source": [
    "N = (100*rsun**2)/(l**2)\n",
    "print(f'This takes {N:.1e} steps.')"
   ]
  },
  {
   "cell_type": "code",
   "execution_count": 36,
   "id": "24a9584e",
   "metadata": {},
   "outputs": [
    {
     "name": "stdout",
     "output_type": "stream",
     "text": [
      "The photon travels a total distance of 1.48e+25 cm.\n"
     ]
    }
   ],
   "source": [
    "path_length = N*l\n",
    "print(f'The photon travels a total distance of {path_length:.2e}.')"
   ]
  },
  {
   "cell_type": "code",
   "execution_count": 37,
   "id": "813e6206",
   "metadata": {},
   "outputs": [
    {
     "name": "stdout",
     "output_type": "stream",
     "text": [
      "It takes the photon a total of 4.9e+14 s or 1.6e+07 years.\n"
     ]
    }
   ],
   "source": [
    "pathtime = (path_length/speed).decompose(bases=u.cgs.bases)\n",
    "print(f'It takes the photon a total of {pathtime:.1e} or {pathtime.to(u.yr).value:.1e} years.')"
   ]
  },
  {
   "cell_type": "markdown",
   "id": "f88e53d3",
   "metadata": {},
   "source": [
    "# Problem 3 \n",
    "\n",
    "Main sequence stars fuse hydrogen into helium by one of two pathways: the p-p chain and the CNO\n",
    "cycle. These reactions can be approximated as:\n",
    "\u000fpp » \u000f1\n",
    "0,ppρX2T 4\n",
    "6 (1)\n",
    "\u000fCN O » \u000f1\n",
    "0,CN OρXXCN OT 19.9\n",
    "6 (2)\n",
    "These equations neglect electron screening, alternate reaction chains, and higher-order terms. The\n",
    "variables are density ρ, temperature T6 “ T {p106K), hydrogen abundance X “ 0.7, abundance of\n",
    "C+N+O XCN O “ 0.0081, \u000f1\n",
    "0,pp “ 1.08ˆ10 ́7 erg s ́1 cm3 g ́2, and \u000f1\n",
    "0,CN O “ 8.24ˆ10 ́26 erg s ́1 cm3 g ́2.\n",
    "What is the fraction of energy generated by each process in the following stars? (6 pts total)"
   ]
  },
  {
   "cell_type": "markdown",
   "id": "57d8ed6a",
   "metadata": {},
   "source": [
    "**a** the Sun with: Tc “ 15.7 ˆ 106 K, ρc “ 150 g/cm3. (2 pts)"
   ]
  },
  {
   "cell_type": "markdown",
   "id": "bc37a05a",
   "metadata": {},
   "source": [
    "$\\epsilon_{pp} \\approx \\epsilon^{'}_{0,pp} \\rho X^2 T_6^2$\n",
    "\n",
    "$\\epsilon_{CNO} \\approx \\epsilon^{'}_{0,CNO} \\rho X X_{CNO} T_6^{19.9}$\n",
    "\n",
    "$\\rho:$ density \n",
    "\n",
    "$T_6 = \\frac{T}{10^6 K}$\n",
    "\n",
    "X: hydrogen abundance (0.7)\n",
    "\n",
    "$X_{CNO}$: C+N+O abundance, 0.0081\n",
    "\n",
    "$\\epsilon^{'}_{0,pp} = 1.08x10^{-7}\\frac{erg cm^3}{s g^2}$\n",
    "\n",
    "$\\epsilon^{'}_{0,CNO} = 6.24x10^{-26}\\frac{erg cm^3}{s g^2}$"
   ]
  },
  {
   "cell_type": "code",
   "execution_count": 171,
   "id": "a5fa5d6e",
   "metadata": {},
   "outputs": [],
   "source": [
    "e0pp = 1.08e-7*(((u.erg**1)*(u.cm**3))/((u.s**1)*(u.g**2)))\n",
    "e0cno = 6.24e-26*((u.erg*(u.cm**3))/((u.s**1)*(u.g**2)))\n",
    "X = 0.7"
   ]
  },
  {
   "cell_type": "markdown",
   "id": "1a5fe895",
   "metadata": {},
   "source": [
    "We get energy from the pp chain:"
   ]
  },
  {
   "cell_type": "code",
   "execution_count": 172,
   "id": "353de750",
   "metadata": {},
   "outputs": [
    {
     "data": {
      "text/latex": [
       "$2.4780876 \\times 10^{29} \\; \\mathrm{\\frac{cm^{2}\\,g}{s^{3}}}$"
      ],
      "text/plain": [
       "<Quantity 2.47808762e+29 cm2 g / s3>"
      ]
     },
     "execution_count": 172,
     "metadata": {},
     "output_type": "execute_result"
    }
   ],
   "source": [
    "rho = 150*(u.g/(u.cm**3))\n",
    "T6 = (15.7e6*(u.K))/((10**6)*u.K)\n",
    "Epp = e0pp*rho*(X**2)*T6*c.M_sun\n",
    "Epp.decompose(bases=u.cgs.bases)"
   ]
  },
  {
   "cell_type": "markdown",
   "id": "1655cd36",
   "metadata": {},
   "source": [
    "and energy from the CNO cycle:"
   ]
  },
  {
   "cell_type": "code",
   "execution_count": 173,
   "id": "44be6bdd",
   "metadata": {},
   "outputs": [
    {
     "data": {
      "text/latex": [
       "$1.6567786 \\times 10^{9} \\; \\mathrm{\\frac{cm^{2}\\,g}{s^{3}}}$"
      ],
      "text/plain": [
       "<Quantity 1.65677858e+09 cm2 g / s3>"
      ]
     },
     "execution_count": 173,
     "metadata": {},
     "output_type": "execute_result"
    }
   ],
   "source": [
    "Xcno = 0.0081\n",
    "Ecno = e0cno*rho*X*Xcno*T6*c.M_sun\n",
    "Ecno.decompose(bases=u.cgs.bases)"
   ]
  },
  {
   "cell_type": "markdown",
   "id": "707c455a",
   "metadata": {},
   "source": [
    "We can very generally compare to the total energy of the sun with:\n",
    "\n",
    "$E = mc^2$"
   ]
  },
  {
   "cell_type": "code",
   "execution_count": 174,
   "id": "8fbb3a4b",
   "metadata": {},
   "outputs": [
    {
     "data": {
      "text/latex": [
       "$1.7870937 \\times 10^{54} \\; \\mathrm{\\frac{cm^{2}\\,g}{s^{2}}}$"
      ],
      "text/plain": [
       "<Quantity 1.78709367e+54 cm2 g / s2>"
      ]
     },
     "execution_count": 174,
     "metadata": {},
     "output_type": "execute_result"
    }
   ],
   "source": [
    "Etot = c.M_sun*(c.c**2)\n",
    "Etot.decompose(bases=u.cgs.bases)"
   ]
  },
  {
   "cell_type": "code",
   "execution_count": 175,
   "id": "2690d39a",
   "metadata": {},
   "outputs": [
    {
     "name": "stdout",
     "output_type": "stream",
     "text": [
      "The percentage of energy from the CNO cycle is 9.27e-40%.\n"
     ]
    }
   ],
   "source": [
    "pcno = (Ecno/Etot)*100\n",
    "\n",
    "print(f'The percentage of energy from the CNO cycle is {pcno.value:.2e}%.')"
   ]
  },
  {
   "cell_type": "code",
   "execution_count": 176,
   "id": "5f15e7e0",
   "metadata": {},
   "outputs": [
    {
     "name": "stdout",
     "output_type": "stream",
     "text": [
      "The percentage of energy from the pp chian is 1.39e-19%.\n"
     ]
    }
   ],
   "source": [
    "ppp = (Epp/Etot)*100\n",
    "\n",
    "print(f'The percentage of energy from the pp chian is {ppp.value:.2e}%.')"
   ]
  },
  {
   "cell_type": "markdown",
   "id": "358e2061",
   "metadata": {},
   "source": [
    "If we assume that the total energy is just the energy of the CNO cycle and the energy of the PP cycle,\n"
   ]
  },
  {
   "cell_type": "code",
   "execution_count": 177,
   "id": "290278dd",
   "metadata": {},
   "outputs": [
    {
     "data": {
      "text/latex": [
       "$0.0001246266 \\; \\mathrm{\\frac{cm^{2}}{s^{3}}}$"
      ],
      "text/plain": [
       "<Quantity 0.00012463 cm2 / s3>"
      ]
     },
     "execution_count": 177,
     "metadata": {},
     "output_type": "execute_result"
    }
   ],
   "source": [
    "rho = 150*(u.g/(u.cm**3))\n",
    "T6 = (15.7e6*(u.K))/((10**6)*u.K)\n",
    "Epp = e0pp*rho*(X**2)*T6\n",
    "Epp.decompose(bases=u.cgs.bases)"
   ]
  },
  {
   "cell_type": "code",
   "execution_count": 178,
   "id": "04fd2f3b",
   "metadata": {},
   "outputs": [
    {
     "data": {
      "text/latex": [
       "$8.3321784 \\times 10^{-25} \\; \\mathrm{\\frac{cm^{2}}{s^{3}}}$"
      ],
      "text/plain": [
       "<Quantity 8.3321784e-25 cm2 / s3>"
      ]
     },
     "execution_count": 178,
     "metadata": {},
     "output_type": "execute_result"
    }
   ],
   "source": [
    "Xcno = 0.0081\n",
    "Ecno = e0cno*rho*X*Xcno*T6\n",
    "Ecno.decompose(bases=u.cgs.bases)"
   ]
  },
  {
   "cell_type": "code",
   "execution_count": 179,
   "id": "7e644df5",
   "metadata": {},
   "outputs": [
    {
     "data": {
      "text/latex": [
       "$0.0001246266 \\; \\mathrm{\\frac{erg}{g\\,s}}$"
      ],
      "text/plain": [
       "<Quantity 0.00012463 erg / (g s)>"
      ]
     },
     "execution_count": 179,
     "metadata": {},
     "output_type": "execute_result"
    }
   ],
   "source": [
    "Etot = Ecno+Epp\n",
    "Etot"
   ]
  },
  {
   "cell_type": "code",
   "execution_count": 180,
   "id": "5d55a90d",
   "metadata": {},
   "outputs": [
    {
     "name": "stdout",
     "output_type": "stream",
     "text": [
      "The percentage of energy from the CNO cycle is 6.69e-19%.\n"
     ]
    }
   ],
   "source": [
    "pcno = (Ecno/Etot)*100\n",
    "\n",
    "print(f'The percentage of energy from the CNO cycle is {pcno.value:.2e}%.')"
   ]
  },
  {
   "cell_type": "code",
   "execution_count": 181,
   "id": "c3d712eb",
   "metadata": {},
   "outputs": [
    {
     "name": "stdout",
     "output_type": "stream",
     "text": [
      "The percentage of energy from the pp chian is 1.0e+02%.\n"
     ]
    }
   ],
   "source": [
    "ppp = (Epp/Etot)*100\n",
    "\n",
    "print(f'The percentage of energy from the pp chian is {ppp.value:.1e}%.')"
   ]
  },
  {
   "cell_type": "markdown",
   "id": "be612945",
   "metadata": {},
   "source": [
    "So the CNO cycle is a very small percent of the total energy."
   ]
  },
  {
   "cell_type": "markdown",
   "id": "2c46d833",
   "metadata": {},
   "source": [
    "**b** Sirius A, with M “ 2.06Md and R “ 1.71Rd. Use this mass and radius to estimate Tc from\n",
    "the relation derived in problem 1b, and similarly scale central density from the Solar value\n",
    "using the ratio between the mean density of Sirius and the Sun. (3 pts)"
   ]
  },
  {
   "cell_type": "markdown",
   "id": "90ba9ce4",
   "metadata": {},
   "source": [
    "\n",
    "$T_c \\approx -3x10^8 \\frac{M}{R^2}$\n",
    "\n"
   ]
  },
  {
   "cell_type": "code",
   "execution_count": 182,
   "id": "dfa63270",
   "metadata": {},
   "outputs": [
    {
     "name": "stdout",
     "output_type": "stream",
     "text": [
      "The temperature is about 0.704 Tsun.\n"
     ]
    }
   ],
   "source": [
    "Tc = (2.06)/((1.71)**2)\n",
    "print(f'The temperature is about {round(Tc,3)} Tsun.')"
   ]
  },
  {
   "cell_type": "markdown",
   "id": "b105e4e4",
   "metadata": {},
   "source": [
    "for the density:\n",
    "\n",
    "$\\rho_{sun} = \\frac{M_{sun}}{V_{sun}} = \\frac{3 M_{sun}}{4 \\pi R_{sun}^3}$"
   ]
  },
  {
   "cell_type": "markdown",
   "id": "95aab647",
   "metadata": {},
   "source": [
    "$\\rho_{sirius} = \\frac{3(2.06 M_{sun})}{4 \\pi(1.71 R_{sun}^3)} = \\frac{2.06}{1.71^3}\\frac{M_{\n",
    "sun}}{V_{sun}}$\n",
    "\n",
    "And the scaling factor for density is:"
   ]
  },
  {
   "cell_type": "code",
   "execution_count": 183,
   "id": "41e22cdb",
   "metadata": {},
   "outputs": [
    {
     "data": {
      "text/plain": [
       "0.41198261433367517"
      ]
     },
     "execution_count": 183,
     "metadata": {},
     "output_type": "execute_result"
    }
   ],
   "source": [
    "scale = 2.06/(1.71**3)\n",
    "scale"
   ]
  },
  {
   "cell_type": "markdown",
   "id": "6b5fa6a7",
   "metadata": {},
   "source": [
    "and the density of sirius is:"
   ]
  },
  {
   "cell_type": "code",
   "execution_count": 184,
   "id": "cdc6097f",
   "metadata": {},
   "outputs": [
    {
     "data": {
      "text/latex": [
       "$61.797392 \\; \\mathrm{\\frac{g}{cm^{3}}}$"
      ],
      "text/plain": [
       "<Quantity 61.79739215 g / cm3>"
      ]
     },
     "execution_count": 184,
     "metadata": {},
     "output_type": "execute_result"
    }
   ],
   "source": [
    "rho_sir = rho*scale\n",
    "rho_sir"
   ]
  },
  {
   "cell_type": "markdown",
   "id": "69e2808a",
   "metadata": {},
   "source": [
    "The enrgy from the pp chain is:"
   ]
  },
  {
   "cell_type": "code",
   "execution_count": 185,
   "id": "354445e4",
   "metadata": {},
   "outputs": [
    {
     "data": {
      "text/latex": [
       "$3.6171343 \\times 10^{-5} \\; \\mathrm{\\frac{cm^{2}}{s^{3}}}$"
      ],
      "text/plain": [
       "<Quantity 3.61713432e-05 cm2 / s3>"
      ]
     },
     "execution_count": 185,
     "metadata": {},
     "output_type": "execute_result"
    }
   ],
   "source": [
    "rho = 150*(u.g/(u.cm**3))\n",
    "T6 = (Tc*15.7e6*(u.K))/((10**6)*u.K)\n",
    "Eppsir = e0pp*rho_sir*(X**2)*T6\n",
    "Eppsir.decompose(bases=u.cgs.bases)"
   ]
  },
  {
   "cell_type": "markdown",
   "id": "174d911f",
   "metadata": {},
   "source": [
    "and the energy from the CNO cycle is:"
   ]
  },
  {
   "cell_type": "code",
   "execution_count": 186,
   "id": "bdc2df6c",
   "metadata": {},
   "outputs": [
    {
     "data": {
      "text/latex": [
       "$2.4183127 \\times 10^{-25} \\; \\mathrm{\\frac{cm^{2}}{s^{3}}}$"
      ],
      "text/plain": [
       "<Quantity 2.41831266e-25 cm2 / s3>"
      ]
     },
     "execution_count": 186,
     "metadata": {},
     "output_type": "execute_result"
    }
   ],
   "source": [
    "Xcno = 0.0081\n",
    "Ecnosir = e0cno*rho_sir*X*Xcno*T6\n",
    "Ecnosir.decompose(bases=u.cgs.bases)"
   ]
  },
  {
   "cell_type": "code",
   "execution_count": 190,
   "id": "416869e2",
   "metadata": {},
   "outputs": [
    {
     "data": {
      "text/latex": [
       "$3.6171343 \\times 10^{-5} \\; \\mathrm{\\frac{erg}{g\\,s}}$"
      ],
      "text/plain": [
       "<Quantity 3.61713432e-05 erg / (g s)>"
      ]
     },
     "execution_count": 190,
     "metadata": {},
     "output_type": "execute_result"
    }
   ],
   "source": [
    "Etotsir = Ecnosir+Eppsir\n",
    "Etot"
   ]
  },
  {
   "cell_type": "code",
   "execution_count": 191,
   "id": "602efa85",
   "metadata": {},
   "outputs": [
    {
     "name": "stdout",
     "output_type": "stream",
     "text": [
      "The percentage of energy from the CNO cycle is 6.69e-19%.\n"
     ]
    }
   ],
   "source": [
    "pcno = (Ecnosir/Etotsir)*100\n",
    "\n",
    "print(f'The percentage of energy from the CNO cycle is {pcno.value:.2e}%.')"
   ]
  },
  {
   "cell_type": "code",
   "execution_count": 192,
   "id": "cabdf3e1",
   "metadata": {},
   "outputs": [
    {
     "name": "stdout",
     "output_type": "stream",
     "text": [
      "The percentage of energy from the pp chian is 1.0e+02%.\n"
     ]
    }
   ],
   "source": [
    "ppp = (Eppsir/Etotsir)*100\n",
    "\n",
    "print(f'The percentage of energy from the pp chian is {ppp.value:.1e}%.')"
   ]
  },
  {
   "cell_type": "markdown",
   "id": "82656bcd",
   "metadata": {},
   "source": [
    "Again, the portion of energy from the CNO cycle is very low."
   ]
  },
  {
   "cell_type": "markdown",
   "id": "320141d8",
   "metadata": {},
   "source": [
    "**c** Assuming that both stars have the same fraction of mass available for hydrogen burning (i.e.,\n",
    "Sirius A has 2.06 times more mass available for hydrogen fusion), what is the ratio between\n",
    "the total H-burning fusion energy output of Sirius compared to the Sun? Why is this different\n",
    "from the ratio of the surface luminosities observed as L 9 M 3.8? (1 pt)"
   ]
  },
  {
   "cell_type": "code",
   "execution_count": 197,
   "id": "5ab5ff67",
   "metadata": {},
   "outputs": [],
   "source": [
    "ratio = Epp/Eppsir"
   ]
  },
  {
   "cell_type": "code",
   "execution_count": 199,
   "id": "56614b39",
   "metadata": {},
   "outputs": [
    {
     "name": "stdout",
     "output_type": "stream",
     "text": [
      "The ratio of energy from the pp cycle between the sun and sirius is 3.45e+00.\n"
     ]
    }
   ],
   "source": [
    "print(f'The ratio of energy from the pp cycle between the sun and sirius is {ratio:.2e}.')"
   ]
  },
  {
   "cell_type": "markdown",
   "id": "b5e64349",
   "metadata": {},
   "source": [
    "# Problem 4\n",
    "\n",
    "Massive (Á100Md) stars have an equation of state dominated by radiation pressure rather than the\n",
    "ideal gas law. How is L proportional to M and R for massive stars? (5 pts"
   ]
  },
  {
   "cell_type": "markdown",
   "id": "c6b0d8e3",
   "metadata": {},
   "source": [
    "We can follow our steps from problem 1, just replacing our ideal gas equations with radiation pressure equations."
   ]
  },
  {
   "cell_type": "markdown",
   "id": "8d8be1a3",
   "metadata": {},
   "source": [
    "\n",
    "for energy trasport by radiation:\n",
    "\n",
    "$\\frac{dT}{dr} = \\frac{-3 \\kappa \\rho}{64 \\pi \\sigma_{sb} T^3} \\frac{L}{R^2}$"
   ]
  },
  {
   "cell_type": "markdown",
   "id": "614da033",
   "metadata": {},
   "source": [
    "We follow the same steps in 1a. to come to the same equations:\n",
    "\n",
    "This gives our proportionality relations in cgs base units:\n",
    "\n",
    "\n",
    "$T_c \\approx [12.564 M]^{1/4} \\approx 1.88 M^{1/4} $\n",
    "\n",
    "$T_c \\approx [12.564 L]^{1/4}  \\approx 1.88 L^{1/4} $\n",
    "\n",
    "$T_c \\approx [12.564 R^{-3}]^{1/4} \\approx 1.88 R^{-3/4} $\n",
    "\n",
    "Now, instead of using an ideal gas aproximation, we will use the radiation pressure equation."
   ]
  },
  {
   "cell_type": "markdown",
   "id": "2f5a6481",
   "metadata": {},
   "source": [
    "The hydrostatic equilibrium equation:\n",
    "\n",
    "$\\frac{dP}{dr} = \\frac{-Gm\\rho}{r^2}$"
   ]
  },
  {
   "cell_type": "markdown",
   "id": "35c92f89",
   "metadata": {},
   "source": [
    "For radiation pressure (from textbook page 31),\n",
    "\n",
    "$P = \\frac{1}{3}aT^4$\n",
    "\n",
    "where\n",
    "\n",
    "$a = 7.56 x 10^{-15} \\frac{erg}{cm^3 K^4}$"
   ]
  },
  {
   "cell_type": "markdown",
   "id": "8387e62b",
   "metadata": {},
   "source": [
    "Integrating the pressure equation:\n",
    "\n",
    "$\\int dP = -Gm\\rho \\int_{0}^{R}  r^{-2} dr$"
   ]
  },
  {
   "cell_type": "markdown",
   "id": "86a7a794",
   "metadata": {},
   "source": [
    "$P = -G\\frac{m^2}{V} \\frac{-1}{R} $"
   ]
  },
  {
   "cell_type": "markdown",
   "id": "9875733f",
   "metadata": {},
   "source": [
    "$P = \\frac{G m^2}{V R}$"
   ]
  },
  {
   "cell_type": "markdown",
   "id": "12856de9",
   "metadata": {},
   "source": [
    "$P = \\frac{3 G m^2}{R 4 \\pi R^3}$"
   ]
  },
  {
   "cell_type": "markdown",
   "id": "09d08231",
   "metadata": {},
   "source": [
    "$P = \\frac{3 Gm^2}{4 \\pi R^4}$"
   ]
  },
  {
   "cell_type": "markdown",
   "id": "867e6093",
   "metadata": {},
   "source": [
    "Setting this equal to radiation pressure,\n",
    "\n",
    "$\\frac{3 Gm^2}{4 \\pi R^4} = \\frac{1}{3}aT^4$"
   ]
  },
  {
   "cell_type": "markdown",
   "id": "6a149a6c",
   "metadata": {},
   "source": [
    "$T = \\frac{9 GM^2}{4 \\pi a R^4}$\n",
    "\n",
    "$T = \\frac{9 G}{4 \\pi a }\\frac{M^2}{R^4}$"
   ]
  },
  {
   "cell_type": "markdown",
   "id": "5ab45a80",
   "metadata": {},
   "source": [
    "Our a value is:"
   ]
  },
  {
   "cell_type": "code",
   "execution_count": 161,
   "id": "b373e936",
   "metadata": {},
   "outputs": [
    {
     "data": {
      "text/latex": [
       "$7.56 \\times 10^{-15} \\; \\mathrm{\\frac{erg}{cm^{3}\\,K^{4}}}$"
      ],
      "text/plain": [
       "<Quantity 7.56e-15 erg / (cm3 K4)>"
      ]
     },
     "execution_count": 161,
     "metadata": {},
     "output_type": "execute_result"
    }
   ],
   "source": [
    "a = 7.56e-15*(u.erg)/((u.cm**3)*(u.K**4)).decompose(bases=u.cgs.bases)\n",
    "a"
   ]
  },
  {
   "cell_type": "markdown",
   "id": "197bc7be",
   "metadata": {},
   "source": [
    "and the proportionality constant reduces to:"
   ]
  },
  {
   "cell_type": "code",
   "execution_count": 163,
   "id": "414551b8",
   "metadata": {},
   "outputs": [
    {
     "data": {
      "text/latex": [
       "$6322903.8 \\; \\mathrm{\\frac{cm^{6}\\,K^{4}}{erg\\,g\\,s^{2}}}$"
      ],
      "text/plain": [
       "<Quantity 6322903.78975141 cm6 K4 / (erg g s2)>"
      ]
     },
     "execution_count": 163,
     "metadata": {},
     "output_type": "execute_result"
    }
   ],
   "source": [
    "const = 9*g/(4*np.pi*a)\n",
    "const"
   ]
  },
  {
   "cell_type": "markdown",
   "id": "19671ddf",
   "metadata": {},
   "source": [
    "so in cgs units, this relationship becomes:\n",
    "\n",
    "$T \\approx 6.32x10^{6} \\frac{M^2}{R^4}$"
   ]
  },
  {
   "cell_type": "markdown",
   "id": "5af6bdd6",
   "metadata": {},
   "source": [
    "We have our luminosity relationship:"
   ]
  },
  {
   "cell_type": "markdown",
   "id": "40d33bc7",
   "metadata": {},
   "source": [
    "$T_c \\approx [12.564 L]^{1/4}  \\approx 1.88 L^{1/4} $\n",
    "\n",
    "$\\therefore$\n",
    "\n",
    "$6.32x10^{6} \\frac{M^2}{R^4} \\approx 1.88 L^{1/4}$"
   ]
  },
  {
   "cell_type": "code",
   "execution_count": 38,
   "id": "4ce28a63",
   "metadata": {},
   "outputs": [
    {
     "data": {
      "text/plain": [
       "1.2771353209359385e+26"
      ]
     },
     "execution_count": 38,
     "metadata": {},
     "output_type": "execute_result"
    }
   ],
   "source": [
    "(6.32e6/1.88)**(4)"
   ]
  },
  {
   "cell_type": "markdown",
   "id": "97eb429d",
   "metadata": {},
   "source": [
    "Which reduces to (in cgs units):\n",
    "\n",
    "$L^{1/4}\\approx \\frac{6.32x10^{6}}{1.88} \\frac{M^2}{R^4}$\n",
    "\n"
   ]
  },
  {
   "cell_type": "markdown",
   "id": "82c33a8d",
   "metadata": {},
   "source": [
    "$L \\approx 1.28x10^{26} \\frac{M^{8}}{R^{16}}$"
   ]
  },
  {
   "cell_type": "markdown",
   "id": "039db125",
   "metadata": {},
   "source": [
    "Our relationships are then:\n",
    "\n",
    "$L \\approx 1.28x10^{26} M^{8}$\n",
    "\n",
    "and \n",
    "\n",
    "$L \\approx 1.28x10^{26} R^{-16}$"
   ]
  }
 ],
 "metadata": {
  "kernelspec": {
   "display_name": "Python 3",
   "language": "python",
   "name": "python3"
  },
  "language_info": {
   "codemirror_mode": {
    "name": "ipython",
    "version": 3
   },
   "file_extension": ".py",
   "mimetype": "text/x-python",
   "name": "python",
   "nbconvert_exporter": "python",
   "pygments_lexer": "ipython3",
   "version": "3.9.6"
  }
 },
 "nbformat": 4,
 "nbformat_minor": 5
}
