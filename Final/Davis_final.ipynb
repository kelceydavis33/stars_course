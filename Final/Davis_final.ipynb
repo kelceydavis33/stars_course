{
 "cells": [
  {
   "cell_type": "markdown",
   "id": "5a418f89",
   "metadata": {},
   "source": [
    "# Final Exam\n",
    "\n",
    "Name: Kelcey Davis\n",
    "\n",
    "Colabortors: None! This was independent\n",
    "\n",
    "A side note: working with other people on homework for me typically consists of people telling me to stop making problems a lot more complicated than they are. I wasn't able to do that here so I may give you more detailed answers than you asked for. I tried not to do that but I think I did anyway.\n",
    "\n",
    "Time to complete:"
   ]
  },
  {
   "cell_type": "code",
   "execution_count": 1,
   "id": "4298f017",
   "metadata": {},
   "outputs": [],
   "source": [
    "import astropy.units as u\n",
    "import astropy.constants as c\n",
    "from astropy.coordinates import SkyCoord\n",
    "from astropy.time import Time\n",
    "import numpy as np\n",
    "import matplotlib.pyplot as plt\n",
    "import pandas as pd\n",
    "import glob\n",
    "%matplotlib inline"
   ]
  },
  {
   "cell_type": "code",
   "execution_count": 2,
   "id": "d2f9672d",
   "metadata": {},
   "outputs": [],
   "source": [
    "plt.rcParams['figure.figsize'] = (10, 10)\n",
    "plt.rc('axes', labelsize=14)\n",
    "plt.rc('axes', labelweight='bold')\n",
    "plt.rc('axes', titlesize=16)\n",
    "plt.rc('axes', titleweight='bold')\n",
    "plt.rc('font', family='sans-serif')"
   ]
  },
  {
   "cell_type": "markdown",
   "id": "61eac970",
   "metadata": {},
   "source": [
    "# Problem 1"
   ]
  },
  {
   "cell_type": "markdown",
   "id": "c08ea2c7",
   "metadata": {},
   "source": [
    "Let’s start with some conceptual questions about the equations of stellar structure. (10 pts total)\n",
    "\n",
    "(a) What are the initial assumptions for the equations of stellar structure?\n"
   ]
  },
  {
   "cell_type": "markdown",
   "id": "1a29c386",
   "metadata": {},
   "source": [
    "I'll mostly just be referencing the class notes for this entire question. It mirrors our discussion, so that seems like the way to go. I'll indicate outside sources if I use them.\n",
    "\n",
    "We made two key assumptions when we began our stellar structure equations. I'll name them both and go in to a little detail on each.\n",
    "\n",
    "**key assumption 1**: Assume spherical symetry\n",
    "\n",
    "This assumption allows us to collapse complicated equations in to 1-D equations that we apply to the whole star in terms of radius. Generally, this assumption does hold for most stars, but there are some departures. For example, the sun experiences a differential rotation. The equator rotates with a period of 25 days while the poles rotate with a period of 34 days. The consequence of this differential rotation is that the sun is slighlt larger across the equator. However, this difference is only 10 km. When compared to the total radius of the sun, about 696,000 km, we see that spherical symmetry holds to $10^{-5}$. Since this is such a small difference and changes in spherical symetry really only matter near the surface, this is still a good assumption.\n",
    "\n",
    "One important departure from spherical symmetry happens in the presence of magnetic feilds, which mostly just matters for pulsars. Even for pulsars though, the magnetic force is much smaller than the gravitational force of the star and the departure from spherical symetry due to magnetic feilds does not matter much.\n",
    "\n",
    "\n",
    "**key assumption 2** Local Thermodynamic Equilibrium\n",
    "\n",
    "We cannot assume for stars a *global* thermodynamic equilibrium. Stars are very hot in their centers and lose heat at their surfaces. They experience vast differences in density, temperature, and pressure. \n",
    "\n",
    "Instead, we assume a *local* thermodynamic equilibrium. When we talk about local, we mean on the scale of the mean free path of a photon:\n",
    "\n",
    "$\\ell_{mfp} < r < R_*$\n",
    "\n",
    "where $\\ell_{mfp}$ is the mean free path, r is the variable we interate over for our equations, and $R_*$ is the total radius of the star. For a photon, the mean free path is given by:\n",
    "\n",
    "$\\ell_\\gamma = \\frac{1}{\\kappa \\rho}$\n",
    "\n",
    "where $\\kappa$ is the opacity and $\\rho$ is the density. For an ionized plasma like a star, a typical opacity is $\\kappa = 0.4 \\frac{cm^2}{g}$. The sun has a mean density of $\\bar \\rho_\\odot = 1.4 \\frac{g}{cm^3}$ which gives a photon mean free path of about $\\ell_\\gamma = 1 cm$. \n",
    "\n",
    "We can consider that change in temperature of the order of this mean free path by:\n",
    "\n",
    "$\\Delta T \\approx \\frac{dT}{dr} \\ell_\\gamma$\n",
    "\n",
    "And if we take this average value over the whole sun, \n",
    "\n",
    "$<\\frac{dT}{dR}> = \\frac{10^7 k }{7x10^5 km} \\approx 10^{-4} \\frac{K}{cm}$ \n",
    "\n",
    "which is a very small differnece, so our assumption of local thermodynamic equilibrium holds."
   ]
  },
  {
   "cell_type": "markdown",
   "id": "2dc3ed38",
   "metadata": {},
   "source": [
    "(b) What is the dierence between the Eulerian and Lagrangian frameworks for these equations?"
   ]
  },
  {
   "cell_type": "markdown",
   "id": "aaca1cc8",
   "metadata": {},
   "source": [
    "Our Eulerian forms are fixed in space. Their change in space is quantified by **dr**.\n",
    "\n",
    "The Lagrangian form follows a test mass, **dm**. These equations are *meshless* with no fixed spatial coordinates.\n"
   ]
  },
  {
   "cell_type": "markdown",
   "id": "bcef4a92",
   "metadata": {},
   "source": [
    "(c) What equation of state governs most regions of most stars?"
   ]
  },
  {
   "cell_type": "markdown",
   "id": "636735ca",
   "metadata": {},
   "source": [
    "The ideal gas equation of state is a good equation of state assumption for most parts of most stars."
   ]
  },
  {
   "cell_type": "markdown",
   "id": "58c4f216",
   "metadata": {},
   "source": [
    "For stars, we express the ideal gas equation as:\n",
    "\n",
    "$P = \\frac{\\rho}{\\mu m_H} kT$\n",
    "\n",
    "where $\\mu m_H$ is the average mass per particle and k is the boltzman constant. We define $\\mu$ as\n",
    "\n",
    "$\\mu = \\frac{1}{2X + \\frac{3}{4}Y + \\frac{1}{2}Z}$\n",
    "\n",
    "where X is the Hydrogen fraction, Y is the Hellium fraction, and Z is the fraction of all heavier elements."
   ]
  },
  {
   "cell_type": "markdown",
   "id": "3e3c1839",
   "metadata": {},
   "source": [
    "(d) What kinds of stars (or regions of stars) are governed by the other equations of state?"
   ]
  },
  {
   "cell_type": "markdown",
   "id": "28465708",
   "metadata": {},
   "source": [
    "Some of the other equations of state are quantum mechanical. Some stars have electron degeneracy equations of state. These are governed by the pauli exclusion principle:\n",
    "\n",
    "$\\bar n_i = \\frac{1}{exp(\\frac{\\epsilon_i - \\mu}{kT}) +1}$"
   ]
  },
  {
   "cell_type": "markdown",
   "id": "d520c6d3",
   "metadata": {},
   "source": [
    "where $\\epsilon_i$ is the energy per particle. For the case where\n",
    "\n",
    "$\\epsilon_i = \\frac{p_i^2}{2 m_e}$\n",
    "\n",
    "The system is non-degenerate. It is important to not that $\\mu$ here is the total chemical potential. We call $\\frac{\\mu}{kT}$ the degeneracy parameter. When $\\mu >> kT$, the system is fully degenerate.\n",
    "\n",
    "Complete degeneracy can either be due to low T (like in Brown Dwarfs) or high $\\mu$ like in White Dwarfs.\n",
    "\n",
    "For fully degenerate, non-relativistic electron gas, the equation of state is:\n",
    "\n",
    "$P = \\frac{h^2}{20 m_e} (\\frac{3}{\\pi})^{2/3} n_e^{5/3}$"
   ]
  },
  {
   "cell_type": "markdown",
   "id": "a4ca0710",
   "metadata": {},
   "source": [
    "which can be re-written as \n",
    "\n",
    "$P_e = k_{nr} [\\frac{\\rho}{\\mu_e}]^{5/3}$\n",
    "\n",
    "where $\\mu_e$ is the average mass per electron and $k_{nr} = 1x10^{13} [\\frac{dyn cm^5}{g^{5/3}}]$\n",
    "\n",
    "This govenrs things like white dwarfs. The equation has no temperature dependence because T does not change equations of state for white dwarfs.\n",
    "\n",
    "Partial degeneracy pressure describes things like iron ash cores in massice stars  and Brown Dwarfs. For these,\n",
    "\n",
    "$\\mu_e \\approx \\frac{2}{1+X}$\n",
    "\n",
    "Relativistic electron degeneracy pressure becomes important for the extremely relativistic case where $v \\approx c$.\n",
    "\n",
    "The equation of state for this case is \n",
    "\n",
    "$P_e = k_{er} [\\frac{\\rho}{\\mu_e}]^{4/3}$ \n",
    "\n",
    "where now  $k_{er} = 1.2x10^{15} [\\frac{dyn cm^5}{g^{5/3}}]$\n",
    "\n",
    "This equation of state becomes important in the more massive white dwarfs as they approach the Chandrashekhar limit.\n",
    "\n",
    "I'll also note that there is a Neutron degeneracy equation of state, but it is an area of active research and governes neutron stars."
   ]
  },
  {
   "cell_type": "markdown",
   "id": "923e729f",
   "metadata": {},
   "source": [
    "(e) What energy transport mechanism dominates most regions of most stars?"
   ]
  },
  {
   "cell_type": "markdown",
   "id": "84267bf9",
   "metadata": {},
   "source": [
    "That would be radiation diffusion! This radiation pressure comes from photons. This radiation pressure is given by:\n",
    "\n",
    "$P = \\frac{4}{3} \\frac{1}{c} \\sigma_{sb} T^4$\n",
    "\n",
    "If I is the intensity and ds is the path length, we can express radiative diffusion as:\n",
    "\n",
    "$\\frac{dI(\\nu)}{ds} = -\\kappa(\\nu) \\rho I(\\nu)$\n",
    "\n",
    "We express the outward flux from a star as this conductivity x the temperature gradient.\n",
    "\n",
    "We express radiative diffusion as:\n",
    "\n",
    "$\\frac{\\partial T}{\\partial r} = \\frac{-3 \\kappa \\rho}{64 \\sigma_{sb} \\pi T^3} \\frac{L}{r^2}$"
   ]
  },
  {
   "cell_type": "markdown",
   "id": "c4a1129c",
   "metadata": {},
   "source": [
    "\n",
    "(f) How do the fusion processes dier for solar-mass stars and M ą 2M d stars (e.g., Sirius) that\n",
    "are on the main sequence?"
   ]
  },
  {
   "cell_type": "markdown",
   "id": "ba112342",
   "metadata": {},
   "source": [
    "In solar mass stars, the p-p chain dominates the fusion process in stars. In our sun, about 70% of the nuclear reactions are from the pp1 chain and 30% are from pp2.\n",
    "\n",
    "The p-p chain starts with:\n",
    "\n",
    "$^1_1H + ^1_1H  \\to ^2_1H + e^{+} + \\nu_e$\n",
    "\n",
    "$^2_1H + ^1_1H \\to ^3_2He + \\gamma$\n",
    "\n",
    "where $\\gamma$ represents a photon and $\\nu_e$ is a neutrino\n",
    "\n",
    "We then have 2 possible pathways:\n",
    "\n",
    "**pp1**\n",
    "\n",
    "$^3_2He + ^3_2He \\to ^4_2He + 2^1_1H    $\n",
    "\n",
    "and\n",
    "\n",
    "**pp2**\n",
    "\n",
    "$^3_2He + ^4_2He \\to ^7_4Be + \\gamma$\n",
    "\n",
    "$^7_4Be + e^{-} \\to ^7_3Li + \\nu_e $\n",
    "\n",
    "$^7_3Li + ^1_1H \\to ^4_2He ^4_2He  $"
   ]
  },
  {
   "cell_type": "markdown",
   "id": "2e5cf97b",
   "metadata": {},
   "source": [
    "For stars like Suruis, the CNO cycle dominates the nuclear reactions. I won't type the full reactions out here because that seems a little intense for the ammount of points this question is worth, but it is the dominant reaction cycle in stars like Sirius."
   ]
  },
  {
   "cell_type": "markdown",
   "id": "45957ba0",
   "metadata": {},
   "source": [
    "(g) How do the fusion processes dier for solar-mass stars that are on the main sequence versus\n",
    "after the main sequence?"
   ]
  },
  {
   "cell_type": "markdown",
   "id": "a1de7a02",
   "metadata": {},
   "source": [
    "On the main sequence, stars follow the reaction cycle I described in the last question, dependent on their mass as I demonstrated. After the main sequence, when a star has exhausted most of its Hydrogen, it begins hellium burning through the $3 \\alpha$ process. \n",
    "\n",
    "This starts with the reversable reaction:\n",
    "\n",
    "$^4_2 2He \\to ^8_4 Be$\n",
    "\n",
    "This is reversable because the Berillium created has an extremely short halflife.\n",
    "\n",
    "The next step is:\n",
    "\n",
    "$^8_4 Be + ^4_2 He \\to ^{12}_6C^* \\to ^{12}_6 C + \\gamma$\n",
    "\n",
    "where $^{12}_6C^*$ is the excited state of the carbon atom. This process is only possible if the additional Hellium arrives very quickly due to the short Berellium halflife. \n",
    "\n",
    "1/2500th of the time, this excited carbon atom will de-excite to the ground state via:\n",
    "\n",
    "$^{12}_6C^* \\to ^{12}_6C + e^+ + e^- \\to ^{12}_6 C + 2 \\gamma$"
   ]
  },
  {
   "cell_type": "markdown",
   "id": "312c3521",
   "metadata": {},
   "source": [
    "We can simplify this whole process in one equation and call it the $3 \\alpha$ process:\n",
    "\n",
    "$3 ^4_2 He \\to ^{12}_6 C + 7.3 MeV$"
   ]
  },
  {
   "cell_type": "markdown",
   "id": "a5b4951b",
   "metadata": {},
   "source": [
    "\n",
    "(h) What kind of fusion happens in brown dwarf stars?"
   ]
  },
  {
   "cell_type": "markdown",
   "id": "03a2d88b",
   "metadata": {},
   "source": [
    "Fusion in Brown Dwarfs is primarily Deutrium fusion which requires lower tempatures. It can be expressed as:\n",
    "\n",
    "\n",
    "$^1_1 H + p \\to ^2_1 H $"
   ]
  },
  {
   "cell_type": "markdown",
   "id": "8645c291",
   "metadata": {},
   "source": [
    "(i) What phenomenon (or phenomena) produces fusion of elements heavier than iron?"
   ]
  },
  {
   "cell_type": "markdown",
   "id": "f104fc0c",
   "metadata": {},
   "source": [
    "This happens through neutron capture! This is an endothermic process requireing a neutron-rich environemtn. This is the case in planetary nebulae, supernovae, and white dwarf/ neutron star mergers. \n",
    "\n",
    "This can happen through the \"s-process\" for low neutron flux.This creates elements that have a half life longer than the time it takes for another neutron to interact.\n",
    "\n",
    "The \"r-process\" occurs in high neutron flux environemnts like supernovae.\n",
    "\n",
    "At Z>44, neutron capture mostly requires extreme neutron flux environemnts. These are found in neutron star mergers.\n"
   ]
  },
  {
   "cell_type": "markdown",
   "id": "92ee79fa",
   "metadata": {},
   "source": [
    "# Problem 2"
   ]
  },
  {
   "cell_type": "markdown",
   "id": "1b37de51",
   "metadata": {},
   "source": [
    "How much He fusion must occur in the “He ash” to make the core non-degenerate for a red giant\n",
    "star with a ZAMS mass of 1M d ? Assume that the core starts out moderately degenerate with\n",
    "equal pressure support from (non-relativistic) electron degeneracy and ideal gas, and becomes non-\n",
    "degenerate when ideal gas makes up 90% of the pressure support. Recall that the He ash occurs\n",
    "at a specic core mass and (initial) temperature, and assume that 2/3 of the energy output from\n",
    "fusion increases the kinetic energy and 1/3 increases the potential energy. (10 pts)"
   ]
  },
  {
   "cell_type": "markdown",
   "id": "9bde594f",
   "metadata": {},
   "source": [
    "Breaking down our assumptions in a way that is easier for me to look at:\n",
    "\n",
    "**Assume that the core starts out moderately degenerate with\n",
    "equal pressure support from (non-relativistic) electron degeneracy and ideal gas, and becomes non-\n",
    "degenerate when ideal gas makes up 90% of the pressure support.**\n",
    "\n",
    "Ok by this we mean that the initial equaiton of state is:\n",
    "\n",
    "$P = P_{ideal} + P_{degen}$\n",
    "\n",
    "$P = \\frac{\\rho}{\\mu m_H} k T + k_{NR} [\\frac{\\rho}{\\mu_e}]^{5/3}$\n",
    "\n",
    "And then once $P_{ideal} = 0.90 P$\n",
    "\n",
    "$P = \\frac{\\rho}{\\mu m_H} k T $\n",
    "\n",
    "**Recall that the He ash occurs\n",
    "at a specic core mass and (initial) temperature, and assume that 2/3 of the energy output from\n",
    "fusion increases the kinetic energy and 1/3 increases the potential energy.**\n",
    "\n",
    "The temperature required is:\n",
    "\n",
    "$T \\approx 10^8 K$\n",
    "\n",
    "and a core mass of\n",
    "\n",
    "$M_{core} = 0.45 M_{ZAMS}$\n",
    "\n",
    "and our energy output is:\n",
    "\n",
    "$E_{out} = \\frac{2}{3} K + \\frac{1}{3} U$"
   ]
  },
  {
   "cell_type": "markdown",
   "id": "ad6d4619",
   "metadata": {},
   "source": [
    "Re-typing the question so I don't get confused:\n",
    "\n",
    "How much He fusion must occur in the “He Flash” to make the core non-degenerate for a red giant\n",
    "star with a ZAMS mass of $1 M_\\odot$ ?"
   ]
  },
  {
   "cell_type": "markdown",
   "id": "73d30e3c",
   "metadata": {},
   "source": [
    "This coresponds to a core mass of:\n",
    "\n",
    "$M_{core} = 0.45 M_{\\odot}$"
   ]
  },
  {
   "cell_type": "markdown",
   "id": "191dea73",
   "metadata": {},
   "source": [
    "I'll start with trying to equate the energies. The gravitational potential of a sphere is:\n",
    "\n",
    "$U = \\frac{-3GM^2}{5R}$\n",
    "\n",
    "The kinetic energy will be due to the outward flash and will depend on its velocity:\n",
    "\n",
    "$K = \\frac{1}{2} m v^2$\n",
    "\n",
    "Our total energy from the flash will become:\n",
    "\n",
    "\n",
    "$E_{out} = \\frac{2}{3} \\frac{1}{2} m v^2 + \\frac{-1}{3}  \\frac{3GM^2}{5R}$"
   ]
  },
  {
   "cell_type": "markdown",
   "id": "7e432b76",
   "metadata": {},
   "source": [
    "or\n",
    "\n",
    "$E_{out} = \\frac{1}{3} M_{core} v^2 -  \\frac{GM_{core}^2}{5R_{core}}$"
   ]
  },
  {
   "attachments": {
    "image.png": {
     "image/png": "[encoded data removed]"
    }
   },
   "cell_type": "markdown",
   "id": "276b357c",
   "metadata": {},
   "source": [
    "This doesn't look promising. But we can relate Pressure to kinetic energy via:\n",
    "\n",
    "![image.png](attachment:image.png)\n",
    "\n",
    "from https://en.wikipedia.org/wiki/Kinetic_theory_of_gases"
   ]
  },
  {
   "cell_type": "markdown",
   "id": "8117e657",
   "metadata": {},
   "source": [
    "rewriting this we get:\n",
    "\n",
    "$K = \\frac{3}{2} P V = \\frac{3}{2} P \\frac{4}{3} \\pi R_{core^3}$\n",
    "\n",
    "which turns our energy equation in to:\n",
    "\n",
    "$E_{out} = \\frac{2}{3} \\frac{3}{2} P \\frac{4}{3} \\pi R_{core}^3+ \\frac{-1}{3}  \\frac{3GM^2}{5R}$"
   ]
  },
  {
   "cell_type": "markdown",
   "id": "46c93d90",
   "metadata": {},
   "source": [
    "or\n",
    "\n",
    "$E_{out} =  P \\frac{4}{3} \\pi R_{core}^3 -  \\frac{GM_{core}^2}{5R_{core}}$"
   ]
  },
  {
   "cell_type": "markdown",
   "id": "58a23979",
   "metadata": {},
   "source": [
    "$E_{out} =  [P_{ideal} + P_{degen}] \\frac{4}{3} \\pi R_{core}^3 -  \\frac{GM_{core}^2}{5R_{core}}$"
   ]
  },
  {
   "cell_type": "markdown",
   "id": "d574f24d",
   "metadata": {},
   "source": [
    "And then once $P_{ideal} = 0.90 P$:"
   ]
  },
  {
   "cell_type": "markdown",
   "id": "6ed32bdb",
   "metadata": {},
   "source": [
    "$\\frac{\\rho}{\\mu m_H} k T  = 0.90 \\frac{\\rho}{\\mu m_H} k T +  0.90k_{NR} [\\frac{\\rho}{\\mu_e}]^{5/3}$"
   ]
  },
  {
   "cell_type": "markdown",
   "id": "0f5a8a18",
   "metadata": {},
   "source": [
    "solving this for density we get:\n",
    "\n",
    "\n",
    "$\\rho = [\\frac{kT}{\\mu m_H} - 0.90 \\frac{kT}{\\mu m_H} + \\frac{0.90}{\\mu_e^{5/3}}]^{3/4}$"
   ]
  },
  {
   "cell_type": "markdown",
   "id": "db0a9741",
   "metadata": {},
   "source": [
    "$\\mu_e = \\frac{2}{1 + X} = 2$\n",
    "\n",
    "$\\mu  = \\frac{1}{2 (0)  + \\frac{3}{4}(1) + \\frac{1}{2}(0)} = \\frac{4}{3}$"
   ]
  },
  {
   "cell_type": "markdown",
   "id": "4d4dfb7c",
   "metadata": {},
   "source": [
    "Our core density is then:"
   ]
  },
  {
   "cell_type": "code",
   "execution_count": 68,
   "id": "7df8ef54",
   "metadata": {},
   "outputs": [
    {
     "data": {
      "text/latex": [
       "$0.38850301 \\; \\mathrm{\\frac{g}{cm^{3}}}$"
      ],
      "text/plain": [
       "<Quantity 0.38850301 g / cm3>"
      ]
     },
     "execution_count": 68,
     "metadata": {},
     "output_type": "execute_result"
    }
   ],
   "source": [
    "T = 1e8*u.K\n",
    "mu = 4/3\n",
    "mue = 2\n",
    "mH = 1*u.u.decompose(bases=u.cgs.bases)\n",
    "mh = mH.value\n",
    "rhocore = (((c.k_B.value*T.value)/(mu*mh)) - ((0.9*c.k_B.value*T.value)/(mu*mh)) + (0.90*(mue**(-5/3))))**(3/4)\n",
    "rhoc = rhocore*(u.g/(u.cm)**3)\n",
    "rhoc"
   ]
  },
  {
   "cell_type": "markdown",
   "id": "74aa8524",
   "metadata": {},
   "source": [
    "Returning to our energy equation,\n",
    "\n",
    "$E_{out} =  [\\frac{\\rho}{\\mu m_H} k T + k_{NR} [\\frac{\\rho}{\\mu_e}]^{5/3}] \\frac{4}{3} \\pi R_{core}^3 -  \\frac{GM_{core}^2}{5R_{core}}$"
   ]
  },
  {
   "cell_type": "markdown",
   "id": "7fe330c3",
   "metadata": {},
   "source": [
    "I'll get the radius of the core from:\n",
    "\n",
    "$\\rho = \\frac{M_{core}}{\\frac{4}{3} \\pi R_{core}^3}$\n",
    "\n"
   ]
  },
  {
   "cell_type": "markdown",
   "id": "0a0a9a1f",
   "metadata": {},
   "source": [
    "$R_{core} = [\\frac{M_{core}}{\\rho \\frac{4}{3} \\pi}]^{1/3}$\n",
    "\n",
    "which makes our energy equation:\n",
    "\n",
    "$E_{out} =  [\\frac{\\rho}{\\mu m_H} k T + k_{NR} [\\frac{\\rho}{\\mu_e}]^{5/3}] \\frac{4}{3} \\pi [[\\frac{M_{core}}{\\rho \\frac{4}{3} \\pi}]^{1/3}]^3 -  \\frac{GM_{core}^2}{5[[\\frac{M_{core}}{\\rho \\frac{4}{3} \\pi}]^{1/3}]}$"
   ]
  },
  {
   "cell_type": "code",
   "execution_count": 81,
   "id": "86287498",
   "metadata": {},
   "outputs": [
    {
     "name": "stdout",
     "output_type": "stream",
     "text": [
      "The total energy is 7.55e+11 erg\n"
     ]
    }
   ],
   "source": [
    "T = 1e8\n",
    "k = c.k_B.value\n",
    "knr = 1e13\n",
    "mcore = 0.45*u.M_sun.decompose(bases=u.cgs.bases)\n",
    "g = c.G.decompose(bases=u.cgs.bases)\n",
    "G = g.value\n",
    "M = mcore.value\n",
    "R = (M/(rho*np.pi*(4/3)))**(1/3)\n",
    "E = ((((rhoc.value/(mu*mh))*k*T) + (knr*((rhoc.value/mue)**(5/3))))*(4/3)*np.pi*(R**3) - ((G*(M**2))/(5* R)))*u.erg\n",
    "print(f'The total energy is {E:.2e}')"
   ]
  },
  {
   "cell_type": "markdown",
   "id": "87267473",
   "metadata": {},
   "source": [
    "Ok now that we have the total energy that this took, we can work from here to get the ammount of He fustion that was necessary. We have to remember that the He flash comes from the tripple alpha process which goes as:\n",
    "\n",
    "$3 ^4_2 He \\to ^{12}_6 C + 7.3 Mev$\n",
    "\n",
    "so each individual tripple alpha process corresponds to 7.3Mev.\n"
   ]
  },
  {
   "cell_type": "code",
   "execution_count": 87,
   "id": "a56d968f",
   "metadata": {},
   "outputs": [
    {
     "name": "stdout",
     "output_type": "stream",
     "text": [
      "This He flash required 6.45e+16 tripple alpha processes.\n"
     ]
    }
   ],
   "source": [
    "one3a = 7.3*u.MeV.to(u.erg)\n",
    "total3a = (E/one3a).value\n",
    "print(f'This He flash required {total3a:.2e} tripple alpha processes.')"
   ]
  },
  {
   "cell_type": "markdown",
   "id": "cd660ac9",
   "metadata": {},
   "source": [
    "# Problem 3"
   ]
  },
  {
   "cell_type": "markdown",
   "id": "10b427b1",
   "metadata": {},
   "source": [
    "Lambda Tauri is an eclipsing close binary that is an “Algol variable.” Star A is a main-sequence\n",
    "star with a mass of 7.2 M d , and star B is a post-MS subgiant with a mass of 1.9 M d . The binary\n",
    "has a period of 4.0 days and the zero-age main sequence age of both stars is 33 Myr. (10 pts total)"
   ]
  },
  {
   "cell_type": "markdown",
   "id": "5fcb0185",
   "metadata": {},
   "source": [
    " (a) How long will A remain on the main sequence? (2 pts)"
   ]
  },
  {
   "cell_type": "markdown",
   "id": "e64e8568",
   "metadata": {},
   "source": [
    "Star A:\n",
    "\n",
    "main sequence\n",
    "\n",
    "$M = 7.2 M_\\odot$\n",
    "\n",
    "Star B:\n",
    "\n",
    "post main sequence \n",
    "\n",
    "$M = 1.9 M_\\odot$\n",
    "\n",
    "Binary:\n",
    "\n",
    "P = 4.0 days\n",
    "\n",
    "Age = 33 Myr"
   ]
  },
  {
   "cell_type": "markdown",
   "id": "aed92eba",
   "metadata": {},
   "source": [
    "In lectrue on 1/19, we derrived:\n",
    "\n",
    "$\\tau \\approx Mass^{-2.8}$\n",
    "\n",
    "more specifically,\n",
    "\n",
    "$\\tau \\approx 10^{10}[ \\frac{Mass}{M_\\odot}]^{-2.8}$\n",
    "\n",
    "so\n"
   ]
  },
  {
   "cell_type": "code",
   "execution_count": 17,
   "id": "0cc27c0f",
   "metadata": {},
   "outputs": [
    {
     "name": "stdout",
     "output_type": "stream",
     "text": [
      "The total lifetime of the star is about 3.98e+07 years.\n",
      "The remaining time in the stars life is about 6.76e+06 years.\n"
     ]
    }
   ],
   "source": [
    "tau = (10**(10)) * (7.2**(-2.8))\n",
    "print(f'The total lifetime of the star is about {tau:.2e} years.')\n",
    "\n",
    "todeath = tau-33e6\n",
    "print(f'The remaining time in the stars life is about {todeath:.2e} years.')"
   ]
  },
  {
   "cell_type": "markdown",
   "id": "2f748492",
   "metadata": {},
   "source": [
    "(b) Now let’s work backwards to infer the properties of A and B before mass transfer occurred.\n",
    "What was the minimum mass of star B before it left the main sequence and lost mass as a\n",
    "giant star? (3 pts)"
   ]
  },
  {
   "cell_type": "markdown",
   "id": "ae8e3f2e",
   "metadata": {},
   "source": [
    "Again:\n",
    "\n",
    "$\\tau \\approx 10^{10}[ \\frac{Mass}{M_\\odot}]^{-2.8}$\n",
    "\n",
    "so \n",
    "\n",
    "$ 33 Myr\\approx 10^{10}[ \\frac{M_i}{M_\\odot}]^{-2.8}$"
   ]
  },
  {
   "cell_type": "markdown",
   "id": "a5d8fb3c",
   "metadata": {},
   "source": [
    "$M_i \\approx [33 Myr \\frac{1}{10^{10}} ]^{1/-2.8} M_\\odot$"
   ]
  },
  {
   "cell_type": "code",
   "execution_count": 90,
   "id": "aca2e538",
   "metadata": {},
   "outputs": [
    {
     "name": "stdout",
     "output_type": "stream",
     "text": [
      "The initial mass would be 7.7 solar masses.\n"
     ]
    }
   ],
   "source": [
    "mi = (33e6*(1/(10**(10))))**(-1/2.8)\n",
    "print(f'The initial mass would be {round(mi,2)} solar masses.')"
   ]
  },
  {
   "cell_type": "markdown",
   "id": "1b05e70c",
   "metadata": {},
   "source": [
    "(c) Assuming the orbital separation and total mass of the system has remained constant, and using\n",
    "the minimum mass of star B in part (b), what was the radius of B when mass transfer started?\n",
    "(5 pts)"
   ]
  },
  {
   "cell_type": "markdown",
   "id": "7c036ddc",
   "metadata": {},
   "source": [
    "This occured when the condition was satisfied that:\n",
    "\n",
    "$d = 2^{1/3} [\\frac{M_2}{M_1}]^{1/3} R_1$\n",
    "\n",
    "and\n",
    "\n",
    "$R_1 = \\frac{d}{2^{1/3}} [\\frac{M_2}{M_1}]^{-1/3}$"
   ]
  },
  {
   "cell_type": "markdown",
   "id": "7960edf8",
   "metadata": {},
   "source": [
    "**B is transfering/has transfered mass to A**\n",
    "\n",
    "before mass loss,\n",
    "\n",
    "$|a_g| > |a_{tidal}|$\n",
    "\n",
    "once this relationship swithces, mass loss initiates."
   ]
  },
  {
   "cell_type": "markdown",
   "id": "a19bdb28",
   "metadata": {},
   "source": [
    "In class we simplified this expression to find that for mass loss:\n",
    "\n",
    "$\\frac{G M_1}{R_1^2} < \\frac{2GM_2}{d^3} R_1$\n",
    "\n",
    "which becomes:\n",
    "\n",
    "$d < 2^{1/3} [\\frac{M_2}{M_1}]^{1/3} R_1$"
   ]
  },
  {
   "attachments": {
    "image.png": {
     "image/png": "[encoded data removed]"
    }
   },
   "cell_type": "markdown",
   "id": "bec9f994",
   "metadata": {},
   "source": [
    "First, I'll use kepler's law to get the distance between the stars. Just stealing from kepler's law wikipedia page:\n",
    "\n",
    "![image.png](attachment:image.png)"
   ]
  },
  {
   "cell_type": "markdown",
   "id": "9e5bd9fe",
   "metadata": {},
   "source": [
    "so updating with our variables,\n",
    "\n",
    "$P^2 = \\frac{4 \\pi^2}{G M_{tot}} d^3$\n",
    "\n"
   ]
  },
  {
   "cell_type": "markdown",
   "id": "813d0413",
   "metadata": {},
   "source": [
    "$d = [P^2 \\frac{G M_{tot}}{4 \\pi^2}]^{1/3}$"
   ]
  },
  {
   "cell_type": "code",
   "execution_count": 28,
   "id": "4da39140",
   "metadata": {},
   "outputs": [
    {
     "name": "stdout",
     "output_type": "stream",
     "text": [
      "The distance between the star centers is 1.54e+12 cm.\n"
     ]
    }
   ],
   "source": [
    "Mtot = (7.2 + 1.9)*u.M_sun\n",
    "P = 4*u.d\n",
    "d = ((((P**2) * c.G * Mtot) / (4 * (np.pi**2)))**(1/3)).decompose(bases=u.cgs.bases)\n",
    "print(f'The distance between the star centers is {d:.2e}.')"
   ]
  },
  {
   "cell_type": "markdown",
   "id": "544643c8",
   "metadata": {},
   "source": [
    "Again from lecture, when mass transfer is occuring we have luminosity as:\n",
    "\n",
    "$L_{acc} = \\frac{G M \\dot M}{R}$"
   ]
  },
  {
   "cell_type": "markdown",
   "id": "8975f461",
   "metadata": {},
   "source": [
    "Back again to lecture 1/19, we have the relations:\n",
    "\n",
    "$\\frac{R_*}{R_\\odot} = [\\frac{M_*}{M_\\odot}]^{0.7}$\n",
    "\n",
    "and\n",
    "\n",
    "$\\frac{L_*}{L_\\odot} = [\\frac{M_*}{M_\\odot}]^{3.8}$"
   ]
  },
  {
   "cell_type": "markdown",
   "id": "a48166c8",
   "metadata": {},
   "source": [
    "I'll estimate the current radius of star B from this as:\n",
    "\n"
   ]
  },
  {
   "cell_type": "code",
   "execution_count": 113,
   "id": "f52e158f",
   "metadata": {},
   "outputs": [
    {
     "name": "stdout",
     "output_type": "stream",
     "text": [
      "The current radius of star B is about 1.09e+09 m.\n"
     ]
    }
   ],
   "source": [
    "Rb_current = ((1.9)**(0.7))*c.R_sun\n",
    "Ra_current = ((7.2)**(0.7))*c.R_sun\n",
    "print(f'The current radius of star B is about {Rb_current:.2e}.')"
   ]
  },
  {
   "cell_type": "markdown",
   "id": "32c00e1c",
   "metadata": {},
   "source": [
    "I did a lot of complicated math here and made the problem significantly more complicated than it was. I had to delete a whole lot of math. I don't think I got rid of anything that was relavent to my answer but I apologize if I did."
   ]
  },
  {
   "cell_type": "markdown",
   "id": "36b849a3",
   "metadata": {},
   "source": [
    "\n",
    "\n",
    "$\\frac{R_*}{R_\\odot} = [\\frac{M_*}{M_\\odot}]^{0.7}$\n",
    "\n",
    "$ R_* = [\\frac{M_*}{M_\\odot}]^{0.7}{R_\\odot}$\n",
    "\n"
   ]
  },
  {
   "cell_type": "code",
   "execution_count": 95,
   "id": "9f258838",
   "metadata": {},
   "outputs": [
    {
     "name": "stdout",
     "output_type": "stream",
     "text": [
      "The radius of the star when the roche lobe filled was 2.90e+09 m.\n"
     ]
    }
   ],
   "source": [
    "Ri = (mi)**(0.7)*c.R_sun\n",
    "\n",
    "print(f'The radius of the star when the roche lobe filled was {Ri:.2e}.')"
   ]
  },
  {
   "cell_type": "code",
   "execution_count": null,
   "id": "b48c5fe6",
   "metadata": {},
   "outputs": [],
   "source": []
  },
  {
   "cell_type": "code",
   "execution_count": null,
   "id": "1443ad3a",
   "metadata": {},
   "outputs": [],
   "source": []
  },
  {
   "cell_type": "code",
   "execution_count": null,
   "id": "203273fb",
   "metadata": {},
   "outputs": [],
   "source": []
  },
  {
   "cell_type": "code",
   "execution_count": null,
   "id": "432b4e30",
   "metadata": {},
   "outputs": [],
   "source": []
  },
  {
   "cell_type": "code",
   "execution_count": null,
   "id": "08e1324b",
   "metadata": {},
   "outputs": [],
   "source": []
  },
  {
   "cell_type": "code",
   "execution_count": null,
   "id": "7bc449b3",
   "metadata": {},
   "outputs": [],
   "source": []
  },
  {
   "cell_type": "code",
   "execution_count": null,
   "id": "ca210660",
   "metadata": {},
   "outputs": [],
   "source": []
  },
  {
   "cell_type": "markdown",
   "id": "9ac9f4a7",
   "metadata": {},
   "source": [
    "# Problem 4"
   ]
  },
  {
   "cell_type": "markdown",
   "id": "fafc5120",
   "metadata": {},
   "source": [
    "The First generation of stars in the early Universe (“Population III”) have no metals, just 75%\n",
    "hydrogen and 25% helium. (10 pts total)"
   ]
  },
  {
   "cell_type": "markdown",
   "id": "3bcb9fac",
   "metadata": {},
   "source": [
    "(a) How does the lack of metals (Z “ 0) make a Population III star dierent from a subsequent,\n",
    "metal-enriched “Population I” star like the Sun? Make at least two calculations to quantita-\n",
    "tively support your answer (for example, you might compare ratios of the equations for stellar\n",
    "structure). (5 pts)"
   ]
  },
  {
   "cell_type": "markdown",
   "id": "7148764a",
   "metadata": {},
   "source": [
    "**reaction rates**\n",
    "\n",
    "This would first effect the nuclear reaction rates in these stars.\n",
    "\n",
    "We can think about the CNO cycle that drives stars. This involves many intricate steps to create elements like C, N, O, and F. This complicated reaction chain depends on the elements already present in the star. If the star already has present heavy elements, these can drive the CNO cycle rate.\n",
    "\n",
    "The p-p chain has less reliance on heavier elements, but does depend on the Hydrogen fraction. The pp chain energy generation rate can be estimated by:\n",
    "\n",
    "$\\epsilon_{pp} \\approx \\epsilon_{0, pp} \\rho X^2 \\rho T_6^4$\n",
    "\n",
    "and the CNO cycle can be estimated by:\n",
    "\n",
    "$\\epsilon_{CNO} \\approx \\epsilon_{0, CNO}  \\rho X X_{CNO} \\rho T_6^{20}$\n",
    "\n",
    "Obviously these are just from homework 3."
   ]
  },
  {
   "cell_type": "markdown",
   "id": "daf556b0",
   "metadata": {},
   "source": [
    "I'll compare a population III star to a population II and population I star with these equations. I'll compare the same star in populations one and two. In other words, I'll assume that the only thing changing here is the hydrogen fraction.\n",
    "\n",
    "I'll simplify these equations as:\n",
    "\n",
    "$\\epsilon_{pp} \\approx X^2$\n",
    "\n",
    "$\\epsilon_{CNO} \\approx X$"
   ]
  },
  {
   "cell_type": "code",
   "execution_count": 34,
   "id": "a0c5699f",
   "metadata": {},
   "outputs": [],
   "source": [
    "#Hydrogen fraction from the problem\n",
    "Xpop3 = 0.75\n",
    "# Hydrogen fraction of our sun, a population 1 star\n",
    "Xpop1 = 0.90"
   ]
  },
  {
   "cell_type": "code",
   "execution_count": 40,
   "id": "07b13aa7",
   "metadata": {},
   "outputs": [
    {
     "name": "stdout",
     "output_type": "stream",
     "text": [
      "The rate of the pp chain in a population I star is 1.44 times what it is in a population III star.\n"
     ]
    }
   ],
   "source": [
    "epp = (0.90**2)/(0.75**2)\n",
    "print(f'The rate of the pp chain in a population I star is {round(epp,2)} times what it is in a population III star.')"
   ]
  },
  {
   "cell_type": "code",
   "execution_count": 39,
   "id": "53bf7c5c",
   "metadata": {},
   "outputs": [
    {
     "name": "stdout",
     "output_type": "stream",
     "text": [
      "The rate of the pp chain in a population I star is 1.2 times what it is in a population III star.\n"
     ]
    }
   ],
   "source": [
    "ecno = (0.90)/(0.75)\n",
    "print(f'The rate of the pp chain in a population I star is {round(ecno,2)} times what it is in a population III star.')"
   ]
  },
  {
   "cell_type": "markdown",
   "id": "a75aaaf4",
   "metadata": {},
   "source": [
    "\n",
    "**stellar structure equations**\n",
    "\n",
    "These would also create differences in stellar structure equations.\n",
    "\n",
    "It would effect three of our equations for stellar structure. It would change the energy generation rates in the equation governing energy generation by thermal fusion. I think I covered how these energy generation rates would change in the previous response, so I won't conduct the calculations a second time but will just note that this equation would change.  \n",
    "\n",
    "This change in elemental abundance would affect our energy transport equation. This is given by:\n",
    "\n",
    "$\\frac{dT}{dr} = \\frac{-3 \\kappa \\rho}{64 \\pi \\sigma T^3} \\frac{L}{r^2}$\n",
    "\n",
    "where $\\kappa = 0.20 (1+X) [\\frac{cm^2}{g}]$\n",
    "\n",
    "From this, we can produce another simple ratio and conclude:"
   ]
  },
  {
   "cell_type": "code",
   "execution_count": 42,
   "id": "63dfdfc2",
   "metadata": {},
   "outputs": [
    {
     "name": "stdout",
     "output_type": "stream",
     "text": [
      "The ratio of equations of energy transport via heat would be 1.09 when comparing a population I star to a population III star.\n"
     ]
    }
   ],
   "source": [
    "energy_trans_ratio = (1 + 0.90)/(1 + 0.75)\n",
    "print(f'The ratio of equations of energy transport via heat would be {round(energy_trans_ratio,2)} when comparing a population I star to a population III star.')"
   ]
  },
  {
   "cell_type": "markdown",
   "id": "c02ec4ca",
   "metadata": {},
   "source": [
    "The third equation effected would be the equation of state for the system. To make this simple, I will assume that both stars are governed by an ideal gas equation of state. This would give a pressure of:\n",
    "\n",
    "$P = \\frac{\\rho}{\\mu m_H} kT$\n",
    "\n",
    "Here, $\\mu$ will chage between the two stars. Since:\n",
    "\n",
    "$\\mu = \\frac{1}{2X + \\frac{3}{4}Y + \\frac{1}{2}Z}$\n",
    "\n",
    "for pop III stars this is:\n",
    "\n",
    "$\\mu = \\frac{1}{2(0.75) + \\frac{3}{4}(0.25) + \\frac{1}{2}(0)}$\n",
    "\n",
    "and for pop I stars this is:\n",
    "\n",
    "$\\mu = \\frac{1}{2(0.90) + \\frac{3}{4}(0.09) + \\frac{1}{2}(0.01)}$"
   ]
  },
  {
   "cell_type": "code",
   "execution_count": 45,
   "id": "1834170e",
   "metadata": {},
   "outputs": [],
   "source": [
    "mupopIII = 1/(2*0.75 + 0.75*0.25)\n",
    "mupopI = 1/(2*0.90 + 0.75*0.09 + 0.5*0.01)"
   ]
  },
  {
   "cell_type": "markdown",
   "id": "d2c220db",
   "metadata": {},
   "source": [
    "Their equations of states would change by a factor of one over this $\\mu$ value, and we see that"
   ]
  },
  {
   "cell_type": "code",
   "execution_count": 46,
   "id": "3c6a0b2f",
   "metadata": {},
   "outputs": [
    {
     "name": "stdout",
     "output_type": "stream",
     "text": [
      "The ratio of equations of state when comparing population I stars to population III stars is 1.11\n"
     ]
    }
   ],
   "source": [
    "ratio = (1/mupopI) / (1/mupopIII)\n",
    "print(f'The ratio of equations of state when comparing population I stars to population III stars is {round(ratio,2)}')"
   ]
  },
  {
   "cell_type": "markdown",
   "id": "6706656d",
   "metadata": {},
   "source": [
    "(b) It may be possible for collapsing primordial molecular clouds to continue accreting mass beyond\n",
    "the Jeans mass, collapsing so quickly that they form a seed black hole “quasi-star.” What is\n",
    "the maximum opacity of a 10 5 M d cloud with T “ 10 4 K for it to remain below the Eddington\n",
    "limit and optically thin as it collapses? (5 pts)"
   ]
  },
  {
   "attachments": {
    "image.png": {
     "image/png": "[encoded data removed]"
    }
   },
   "cell_type": "markdown",
   "id": "03e505dc",
   "metadata": {},
   "source": [
    "The Jean's mass is given by:\n",
    "\n",
    "![image.png](attachment:image.png)\n",
    "\n",
    "via https://en.wikipedia.org/wiki/Jeans_instability"
   ]
  },
  {
   "cell_type": "code",
   "execution_count": 96,
   "id": "8fc5850c",
   "metadata": {},
   "outputs": [],
   "source": [
    "Mcloud = 1e5*u.M_sun\n",
    "T = 1e4*u.K"
   ]
  },
  {
   "attachments": {
    "image.png": {
     "image/png": "[encoded data removed]"
    }
   },
   "cell_type": "markdown",
   "id": "4cf1d270",
   "metadata": {},
   "source": [
    "We want this to remain below the eddington limit and be optically thin as it collapses.\n",
    "\n",
    "The Eddington Luminosity is:\n",
    "\n",
    "![image.png](attachment:image.png)\n",
    "\n",
    "from https://en.wikipedia.org/wiki/Eddington_luminosity\n",
    "\n",
    "From this, I can quickly get to the eddington luminosity fro this cloud:"
   ]
  },
  {
   "cell_type": "code",
   "execution_count": 102,
   "id": "33535438",
   "metadata": {},
   "outputs": [
    {
     "data": {
      "text/latex": [
       "$1.2570652 \\times 10^{43} \\; \\mathrm{\\frac{cm^{2}\\,g}{s^{3}}}$"
      ],
      "text/plain": [
       "<Quantity 1.25706518e+43 cm2 g / s3>"
      ]
     },
     "execution_count": 102,
     "metadata": {},
     "output_type": "execute_result"
    }
   ],
   "source": [
    "Ledd = (4*np.pi*c.G*Mcloud*c.m_p*c.c)/(c.sigma_T)\n",
    "Ledd.decompose(bases=u.cgs.bases)"
   ]
  },
  {
   "cell_type": "markdown",
   "id": "97d753a0",
   "metadata": {},
   "source": [
    "Fantastic. These are luminosity units, looks like it is wokring well. \n",
    "\n",
    "I'll use Polls eqn 5.28 to come up with:\n",
    "\n",
    "$L < L_{edd} < \\frac{4 \\pi c G M}{\\kappa}$\n",
    "\n",
    "where $\\kappa$ is the opacity."
   ]
  },
  {
   "cell_type": "markdown",
   "id": "10e177d4",
   "metadata": {},
   "source": [
    "Reorganizing,\n",
    "\n",
    "$\\kappa < \\frac{4 \\pi c G M}{L_{edd}}$"
   ]
  },
  {
   "cell_type": "markdown",
   "id": "0cce7db2",
   "metadata": {},
   "source": [
    "This gives a lowe limit for opacicty as:"
   ]
  },
  {
   "cell_type": "code",
   "execution_count": 112,
   "id": "6b46b588",
   "metadata": {},
   "outputs": [
    {
     "name": "stdout",
     "output_type": "stream",
     "text": [
      "This gives a maxiumum opactiy of 3.98e-01 cm2 / g.\n"
     ]
    }
   ],
   "source": [
    "kappa_max =((4*np.pi*c.c*c.G*Mcloud)/(Ledd)).decompose(bases=u.cgs.bases)\n",
    "print(f'This gives a maxiumum opactiy of {kappa_max:.2e}.')"
   ]
  }
 ],
 "metadata": {
  "kernelspec": {
   "display_name": "Python 3",
   "language": "python",
   "name": "python3"
  },
  "language_info": {
   "codemirror_mode": {
    "name": "ipython",
    "version": 3
   },
   "file_extension": ".py",
   "mimetype": "text/x-python",
   "name": "python",
   "nbconvert_exporter": "python",
   "pygments_lexer": "ipython3",
   "version": "3.9.6"
  }
 },
 "nbformat": 4,
 "nbformat_minor": 5
}
