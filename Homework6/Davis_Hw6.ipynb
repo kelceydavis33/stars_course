{
 "cells": [
  {
   "cell_type": "markdown",
   "id": "76fe5221",
   "metadata": {},
   "source": [
    "# Homework 6"
   ]
  },
  {
   "cell_type": "code",
   "execution_count": 1,
   "id": "4298f017",
   "metadata": {},
   "outputs": [],
   "source": [
    "import astropy.units as u\n",
    "import astropy.constants as c\n",
    "from astropy.coordinates import SkyCoord\n",
    "from astropy.time import Time\n",
    "import numpy as np\n",
    "import matplotlib.pyplot as plt\n",
    "import pandas as pd\n",
    "import glob\n",
    "%matplotlib inline"
   ]
  },
  {
   "cell_type": "code",
   "execution_count": 2,
   "id": "d2f9672d",
   "metadata": {},
   "outputs": [],
   "source": [
    "plt.rcParams['figure.figsize'] = (10, 10)\n",
    "plt.rc('axes', labelsize=14)\n",
    "plt.rc('axes', labelweight='bold')\n",
    "plt.rc('axes', titlesize=16)\n",
    "plt.rc('axes', titleweight='bold')\n",
    "plt.rc('font', family='sans-serif')"
   ]
  },
  {
   "cell_type": "markdown",
   "id": "635b167d",
   "metadata": {},
   "source": [
    "# Problem 1\n",
    "\n",
    "A 10$M_\\odot$ star starts silicon burning until its degenerate iron core exceeds the Chandrasekhar limit\n",
    "and causes a supernova. (10 pts total)"
   ]
  },
  {
   "cell_type": "markdown",
   "id": "2280c0fd",
   "metadata": {},
   "source": [
    "a. How much energy is released by the change in gravitational potential energy of the core? (3\n",
    "pts)"
   ]
  },
  {
   "cell_type": "markdown",
   "id": "b1734793",
   "metadata": {},
   "source": [
    "$U = \\frac{G M^2}{R}$\n",
    "\n",
    "$\\Delta U = G M^2 \\frac{1}{R_f - R_i}$\n",
    "\n",
    "We will assume that the star collapses from a white dward to a neutron star. A typical White Dwarf has the radius of the Earth, while a typical Neutron star has a radius of around 10 km."
   ]
  },
  {
   "cell_type": "code",
   "execution_count": 9,
   "id": "fb31eaec",
   "metadata": {},
   "outputs": [
    {
     "name": "stdout",
     "output_type": "stream",
     "text": [
      "The change in energy is 4.14e+52 cm2 g / s2.\n"
     ]
    }
   ],
   "source": [
    "deltR = (c.R_earth - 10*u.km).decompose(bases=u.cgs.bases)\n",
    "m = 10*u.M_sun\n",
    "deltU = (c.G * (m**2) * (1/deltR)).decompose(bases=u.cgs.bases)\n",
    "print(f'The change in energy is {deltU:.2e}.')"
   ]
  },
  {
   "cell_type": "markdown",
   "id": "b7bedc68",
   "metadata": {},
   "source": [
    "b. The supernova photodisintegrates the iron (56\n",
    "26Fe) into 30 neutrons and 26 protons. How much\n",
    "energy does this take for all of the iron in the star? (2 pts)"
   ]
  },
  {
   "cell_type": "markdown",
   "id": "87c07991",
   "metadata": {},
   "source": [
    "$E = \\Delta m c^2$\n",
    "\n",
    "where $\\Delta m$ is a mass defecit. The mass of ^56Fe is **55.9349363** (via https://www.buyisotope.com/iron-56-isotope.php)"
   ]
  },
  {
   "cell_type": "code",
   "execution_count": 14,
   "id": "682a80d3",
   "metadata": {},
   "outputs": [
    {
     "data": {
      "text/latex": [
       "$-0.51419931 \\; \\mathrm{u}$"
      ],
      "text/plain": [
       "<Quantity -0.51419931 u>"
      ]
     },
     "execution_count": 14,
     "metadata": {},
     "output_type": "execute_result"
    }
   ],
   "source": [
    "Fe56mass = \t55.9349363 * u.u\n",
    "\n",
    "mass_def = Fe56mass - (30*c.m_n + 26*c.m_p)\n",
    "\n",
    "mass_def"
   ]
  },
  {
   "cell_type": "markdown",
   "id": "faf44810",
   "metadata": {},
   "source": [
    "This gives us the mass defecit for one Fe atom. The enrgy released by one atom photodisitegrating is then:\n"
   ]
  },
  {
   "cell_type": "code",
   "execution_count": 18,
   "id": "d8c56095",
   "metadata": {},
   "outputs": [
    {
     "data": {
      "text/latex": [
       "$6.5524329 \\times 10^{-28} \\; \\mathrm{\\frac{cm^{2}\\,g^{2}}{s^{2}}}$"
      ],
      "text/plain": [
       "<Quantity 6.55243288e-28 cm2 g2 / s2>"
      ]
     },
     "execution_count": 18,
     "metadata": {},
     "output_type": "execute_result"
    }
   ],
   "source": [
    "E = ((mass_def**2) * c.c**2).decompose(bases=u.cgs.bases)\n",
    "E"
   ]
  },
  {
   "cell_type": "markdown",
   "id": "cda28b5f",
   "metadata": {},
   "source": [
    "If we assume that the remaining mass is mostly the iron core, we can approximate the number of Fe atoms:\n"
   ]
  },
  {
   "cell_type": "code",
   "execution_count": 24,
   "id": "46b4b1ad",
   "metadata": {},
   "outputs": [
    {
     "data": {
      "text/latex": [
       "$2.140788 \\times 10^{56} \\; \\mathrm{}$"
      ],
      "text/plain": [
       "<Quantity 2.14078802e+56>"
      ]
     },
     "execution_count": 24,
     "metadata": {},
     "output_type": "execute_result"
    }
   ],
   "source": [
    "nFe = (m/Fe56mass).decompose(bases=u.cgs.bases)\n",
    "nFe"
   ]
  },
  {
   "cell_type": "markdown",
   "id": "9b8c6161",
   "metadata": {},
   "source": [
    "and the total energy lost by photodisintegration is:"
   ]
  },
  {
   "cell_type": "code",
   "execution_count": 23,
   "id": "7fb4441f",
   "metadata": {},
   "outputs": [
    {
     "data": {
      "text/latex": [
       "$1.402737 \\times 10^{29} \\; \\mathrm{\\frac{cm^{2}\\,g^{2}}{s^{2}}}$"
      ],
      "text/plain": [
       "<Quantity 1.40273698e+29 cm2 g2 / s2>"
      ]
     },
     "execution_count": 23,
     "metadata": {},
     "output_type": "execute_result"
    }
   ],
   "source": [
    "E*nFe"
   ]
  },
  {
   "cell_type": "markdown",
   "id": "16361ba3",
   "metadata": {},
   "source": [
    "c. The collapsing core has a density of ą1011 g cm ́3, driving electron capture: p ` e ́ Ñ n ` νe.\n",
    "Assume that the final neutron star has only neutrons (this is not completely true, but we’ll\n",
    "ignore quark generation and remaining protons and electrons here). How many neutrinos are\n",
    "generated from electron capture in the core? (2 pts)"
   ]
  },
  {
   "cell_type": "markdown",
   "id": "7d5b107f",
   "metadata": {},
   "source": [
    "$p + e^- \\to n + \\nu_e$"
   ]
  },
  {
   "cell_type": "markdown",
   "id": "75b7ed35",
   "metadata": {},
   "source": [
    "$N_{\\nu_e} = ???$\n",
    "\n",
    "This will depend on the number of available protons and electrons. If this is still a degenerate Fe core, then each atom has 26 $e^-$s and 26 ps, so we will treat this like all the $e^{-}$s have a p to combine with and there are no leftovers. This means:\n",
    "\n",
    "$N_{\\nu_e} = N_p$\n",
    "\n",
    "so:\n"
   ]
  },
  {
   "cell_type": "code",
   "execution_count": 26,
   "id": "9591831b",
   "metadata": {},
   "outputs": [
    {
     "name": "stdout",
     "output_type": "stream",
     "text": [
      "5.57e+57 neutrinos are created in this process.\n"
     ]
    }
   ],
   "source": [
    "np = nFe*26\n",
    "print(f'{np:.2e} neutrinos are created in this process.')"
   ]
  },
  {
   "cell_type": "markdown",
   "id": "7b2fbd08",
   "metadata": {},
   "source": [
    "d. What is the typical energy of each neutrino? You can assume that all of the energy remaining\n",
    "after photodisintegration goes into the neutrinos. (This is a good assumption, since only 1%\n",
    "of the energy goes into the expanding shell and only 0.01% goes into radiation). (3 pts)"
   ]
  },
  {
   "cell_type": "markdown",
   "id": "25df8c59",
   "metadata": {},
   "source": [
    "The energy from  of one neutrino can be approximated as:\n",
    "\n",
    "$E_{\\nu_e} = \\frac{1}{N_{\\nu_e}} E_{after}$\n",
    "\n",
    "or"
   ]
  },
  {
   "cell_type": "code",
   "execution_count": 35,
   "id": "314cdf66",
   "metadata": {},
   "outputs": [
    {
     "name": "stdout",
     "output_type": "stream",
     "text": [
      "This is an energy per neutrino of about: 1.18e-85 cm2 g2 / s2\n"
     ]
    }
   ],
   "source": [
    "Eve = (E/np)\n",
    "print(f'This is an energy per neutrino of about: {Eve:.2e}')"
   ]
  },
  {
   "cell_type": "markdown",
   "id": "b04d4b55",
   "metadata": {},
   "source": [
    "# Problem 2"
   ]
  },
  {
   "cell_type": "markdown",
   "id": "d4e3931e",
   "metadata": {},
   "source": [
    "Sirius A is a main-sequence A star with a mass of 2.1Md, and Sirius B is a white dwarf with a\n",
    "mass of 1.0Md. Sirius A will eventually (in „1.5 billion years) leave the main sequence and reach a\n",
    "maximum radius of about 400Rd on the asymptotic giant branch. At what binary separation will\n",
    "the future Sirius A AGB star overflow its Roche lobe and lose mass onto an accretion disk around\n",
    "the Sirius B white dwarf? (5 pts)"
   ]
  },
  {
   "cell_type": "code",
   "execution_count": 59,
   "id": "20659da8",
   "metadata": {},
   "outputs": [],
   "source": [
    "Ma = (2.1*u.M_sun).decompose(bases=u.cgs.bases).value\n",
    "Mb = (1.0*u.M_sun).decompose(bases=u.cgs.bases).value\n",
    "\n",
    "Ra = (400*u.Rsun).decompose(bases=u.cgs.bases).value\n"
   ]
  },
  {
   "cell_type": "markdown",
   "id": "cf432ce2",
   "metadata": {},
   "source": [
    "condition for acretion is:\n",
    "\n",
    "$|a_g| < |a_{tidal}|$"
   ]
  },
  {
   "cell_type": "markdown",
   "id": "1268569c",
   "metadata": {},
   "source": [
    "$|\\frac{GmM}{r^2}| < |a_{tidal}|$\n",
    "\n",
    "or\n",
    "\n",
    "$|\\frac{GM_aM_b}{r^2}| < |a_{tidal}|$\n",
    "\n",
    "where r is the distance seperating the two stars. \n",
    "\n",
    "I'll assume that I can estimate the tidal acceleration (from B on A) as:\n",
    "\n",
    "By tidal force, we mean the force exerted due to the difference in gravitational pull from one side of the companion star versus the other, just like how this force causes tides in our ocean due to the difference in gravitational pulls from each side of the moon. I'm planning on thinking of this as the difference in forces on each side. I'll write this force as:\n",
    "\n",
    "\n",
    "$a_{tidal} = \\frac{Gm}{dr^2}$\n",
    "\n",
    "r: distance between stars\n",
    "\n",
    "We don't want derrivatives here, we want to think about this in terms of how each side of star B interacts with star A.\n",
    "\n",
    "The total tidal force on star A from star B is then:\n",
    "\n",
    "$a_{tidal}  =\\frac{G M_b}{(R_a - r)^2} - \\frac{G M_b}{(R_a + r)^2}$\n",
    "\n",
    "\n",
    "\n",
    "\n",
    "$|\\frac{GM_aM_b}{r^2}| < |\\frac{G M_b}{(R_a - r)^2} - \\frac{G M_b}{(R_a + r)^2}|$\n",
    "\n",
    "We need to find the point where this condition is met, so we just set them equal to eacch other.\n"
   ]
  },
  {
   "cell_type": "markdown",
   "id": "8db1181a",
   "metadata": {},
   "source": [
    "$|\\frac{M_a}{r^2}| = |\\frac{1}{(R_a - r)^2} - \\frac{1}{(R_a + r)^2}|$\n"
   ]
  },
  {
   "cell_type": "markdown",
   "id": "60d7d107",
   "metadata": {},
   "source": [
    "I will be defaulting to wolfram alpha for the algebra on this one because it looks a bit nasty. It spits out:\n",
    "\n",
    "$r = |-\\sqrt{\\frac{M_a R_a^2 - 2\\sqrt{R_a^2 (M_a R_a+1)} + 2R_a}{M_a}}|$"
   ]
  },
  {
   "cell_type": "code",
   "execution_count": 61,
   "id": "2e554354",
   "metadata": {},
   "outputs": [
    {
     "name": "stdout",
     "output_type": "stream",
     "text": [
      "The distance where this condition is satisfied is 2.78e+13 cm\n"
     ]
    }
   ],
   "source": [
    "#I stupidly called my proton mass the same thing as my numpy import. Oopsies. I'll just re-define it down here.\n",
    "import numpy as np\n",
    "\n",
    "r = (np.sqrt((Ma*(Ra**2)-2*(np.sqrt((Ra**2)*(Ma*Ra + 1)) + 2*Ra))/(Ma)))*u.cm\n",
    "print(f'The distance where this condition is satisfied is {r:.2e}.')"
   ]
  },
  {
   "cell_type": "markdown",
   "id": "5bd01e6a",
   "metadata": {},
   "source": [
    "# Probelm 3"
   ]
  },
  {
   "cell_type": "markdown",
   "id": "5dbe33b8",
   "metadata": {},
   "source": [
    "You may have noticed that the masses of Sirius A and Sirius B are unusual, since massive stars\n",
    "evolve more quickly than low-mass stars. The Sirius binary system is „240 Myr old. What was the\n",
    "minimum initial mass of Sirius B? How much of the mass lost by Sirius B (by stellar winds and a\n",
    "planetary nebula) was captured by Sirius A? (5 pts)"
   ]
  },
  {
   "cell_type": "code",
   "execution_count": 123,
   "id": "d5b8a491",
   "metadata": {},
   "outputs": [
    {
     "data": {
      "text/plain": [
       "240000000.0"
      ]
     },
     "execution_count": 123,
     "metadata": {},
     "output_type": "execute_result"
    }
   ],
   "source": [
    "age_binary = (240*u.Myr).to(u.yr).value\n",
    "#Binary age in years\n",
    "age_binary"
   ]
  },
  {
   "cell_type": "markdown",
   "id": "39ab8b12",
   "metadata": {},
   "source": [
    "If the binary age is 240 Myrs, we are looking at a star that has evolved to a White Dwarf from a Main Sequence star in that time period.\n",
    "\n",
    "I was making this really complicated and looking for relations in papers before I realzied you just want something farily simple, like a relationship between mass and lifetime.\n",
    "\n",
    "In lectrue on 1/19, we derrived:\n",
    "\n",
    "$\\tau \\approx Mass^{-2.8}$\n",
    "\n",
    "more specifically,\n",
    "\n",
    "$\\tau \\approx 10^{10}[ \\frac{Mass}{M_\\odot}]^{-2.8}$\n",
    "\n",
    "so\n",
    "\n",
    "$Mass \\approx 10^{-10} \\tau^{1/(-2.8)} $"
   ]
  },
  {
   "cell_type": "code",
   "execution_count": 150,
   "id": "d5541b68",
   "metadata": {},
   "outputs": [
    {
     "name": "stdout",
     "output_type": "stream",
     "text": [
      "The mass is about 3.79 solar masses.\n"
     ]
    }
   ],
   "source": [
    "mass = (((10**(-10))*age_binary)**(1/(-2.8)))\n",
    "print(f'The mass is about {round(mass,2)} solar masses.')"
   ]
  },
  {
   "cell_type": "markdown",
   "id": "165dc3b6",
   "metadata": {},
   "source": [
    "How much of the mass lost by Sirius B (by stellar winds and a\n",
    "planetary nebula) was captured by Sirius A?"
   ]
  },
  {
   "cell_type": "markdown",
   "id": "2ceae506",
   "metadata": {},
   "source": [
    "If the initial mass of sirius B was about $3.79 M_\\odot$, and the current mass is about $1 M_\\odot$, so sirius B lost a total of $2.79 M_\\odot$. This is more thant the total current mass of sirius A, so we can assume only a smal lfraction of it was acreted on to sirius A.\n",
    "\n",
    "$M_{accreted} < 2.79 M_\\odot$\n",
    "\n",
    "\n",
    "I looked at maybe doing a binary mass function for this but that felt too complicated, and this feels too simple of an explanation."
   ]
  },
  {
   "cell_type": "markdown",
   "id": "8d66778a",
   "metadata": {},
   "source": [
    "# Porblem 4"
   ]
  },
  {
   "cell_type": "markdown",
   "id": "f501ce75",
   "metadata": {},
   "source": [
    "One possible explanation for dark matter is a distribution of stellar-remnant black holes. What\n",
    "supernova rate would be required to build the dark matter halo of the Milky Way? Clearly state\n",
    "your assumptions and references used to solve this problem. (5 pts)"
   ]
  },
  {
   "cell_type": "markdown",
   "id": "5cc97283",
   "metadata": {},
   "source": [
    "A good estimation of the total mass of the dark matter halo in the milky way comes from:\n",
    "\n",
    "https://ui.adsabs.harvard.edu/abs/2019A%26A...621A..56P/abstract\n",
    "\n",
    "Which used globular cluster distributions to estimate a mass of:\n",
    "\n",
    "$M_{DM} = 1.37_{-0.17}^{+0.18}×10^{11} M⊙$"
   ]
  },
  {
   "cell_type": "code",
   "execution_count": 142,
   "id": "60b1cf75",
   "metadata": {},
   "outputs": [],
   "source": [
    "Mdm = 1.37e11"
   ]
  },
  {
   "cell_type": "markdown",
   "id": "ff54c38c",
   "metadata": {},
   "source": [
    "I'm going to start with the current rate and work backwards from there.\n",
    "\n",
    "I'll define some supernovae rate as:\n",
    "\n",
    "R = SFR x SNF\n",
    "\n",
    "Where SFR is the star formation rate in the milky way and SNF is the fraction of these types of stars that form black holes through supernovae. I'll start with the star formation rate:\n",
    "\n",
    "I will use \n",
    "\n",
    "SFR = $2 M_{\\odot} [\\frac{1}{year}]$\n",
    "\n",
    "or about 2 solar masses per year.\n",
    "\n",
    "as measured in https://arxiv.org/abs/2211.05573 .\n",
    "\n",
    "The fraction of stars that end up massive enough to become black holes I'll estimate as:\n",
    "\n",
    " SNF = $ \\frac{1}{1000} $\n",
    "\n",
    "as estimated from: https://www.stsci.edu/~marel/black_holes/encyc_mod3_q7.html\n",
    "\n",
    "\n",
    "So our current rate of (stellar mass) black hole formation in the milky way is about:\n",
    "\n",
    "R = $\\frac{2}{1000} [\\frac{M_{\\odot} }{year}]$\n"
   ]
  },
  {
   "cell_type": "markdown",
   "id": "62eb3954",
   "metadata": {},
   "source": [
    "Just comparing this to figure out how long it would take to generate enough mass to make the dark matter halo:\n",
    "\n",
    "\n",
    "$\\frac{2}{1000} [\\frac{M_{\\odot} }{year}] = \\frac{M_{DM}}{x years}$"
   ]
  },
  {
   "cell_type": "code",
   "execution_count": 140,
   "id": "03d52796",
   "metadata": {},
   "outputs": [
    {
     "name": "stdout",
     "output_type": "stream",
     "text": [
      "At the milky ways current rate, it would take 6.85e+13 years to make enough stellar mass black holes to account for the mass in the dark matter halo.\n"
     ]
    }
   ],
   "source": [
    "years = 1000*0.5*1.37e11\n",
    "print(f'At the milky ways current rate, it would take {years:.2e} years to make enough stellar mass black holes to account for the mass in the dark matter halo.')"
   ]
  },
  {
   "cell_type": "markdown",
   "id": "f47afe34",
   "metadata": {},
   "source": [
    "We think that the milky way is close to the age of the universe, about 13.6 billion years (estimated from https://spaceplace.nasa.gov/galaxies-age/en/). So the ammount of time it would take to generate enough black holes this way is longer than the milky way, and even longer than the age of the universe.\n",
    "\n",
    "We need to think about how to adjust our rate to form these black holes in time. To create enough mass to fill the dark matter halo, we would need to acrete at a rate of:\n",
    "\n",
    "$R = \\frac{M_{DM}}{13.6 Billion Years}$\n",
    "\n",
    "which is:"
   ]
  },
  {
   "cell_type": "code",
   "execution_count": 149,
   "id": "6a660a7a",
   "metadata": {},
   "outputs": [
    {
     "name": "stdout",
     "output_type": "stream",
     "text": [
      "We would need to create black holes at a rate of 10.07 per year, compared to the real ratio in the milky way of \n",
      "0.002 per year. This is 5036.76 times more per year.\n"
     ]
    }
   ],
   "source": [
    "MWage = 13600000000\n",
    "oldrate = 2/1000\n",
    "rate = Mdm/MWage\n",
    "print(f'We would need to create black holes at a rate of {round(rate, 2)} per year, compared to the real ratio in the milky way of \\n{round(oldrate,3)} per year. This is {round(rate/oldrate, 2)} times more per year.')"
   ]
  }
 ],
 "metadata": {
  "kernelspec": {
   "display_name": "Python 3",
   "language": "python",
   "name": "python3"
  },
  "language_info": {
   "codemirror_mode": {
    "name": "ipython",
    "version": 3
   },
   "file_extension": ".py",
   "mimetype": "text/x-python",
   "name": "python",
   "nbconvert_exporter": "python",
   "pygments_lexer": "ipython3",
   "version": "3.9.6"
  }
 },
 "nbformat": 4,
 "nbformat_minor": 5
}
